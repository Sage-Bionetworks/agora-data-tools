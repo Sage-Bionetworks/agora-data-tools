{
 "cells": [
  {
   "cell_type": "code",
   "execution_count": null,
   "metadata": {},
   "outputs": [],
   "source": [
    "import json\n",
    "\n",
    "import pandas as pd\n",
    "\n",
    "import great_expectations as gx\n",
    "import synapseclient\n",
    "\n",
    "from agoradatatools.gx import GreatExpectationsRunner\n",
    "\n",
    "context = gx.get_context(project_root_dir='../src/agoradatatools/great_expectations')\n",
    "\n",
    "from expectations.expect_column_values_to_have_list_length import \\\n",
    "    ExpectColumnValuesToHaveListLength\n",
    "from expectations.expect_column_values_to_have_list_members import \\\n",
    "    ExpectColumnValuesToHaveListMembers\n",
    "from expectations.expect_column_values_to_have_list_members_of_type import \\\n",
    "    ExpectColumnValuesToHaveListMembersOfType"
   ]
  },
  {
   "cell_type": "markdown",
   "metadata": {},
   "source": [
    "# Create Expectation Suite for Gene Info Data"
   ]
  },
  {
   "cell_type": "markdown",
   "metadata": {},
   "source": [
    "## Get Example Data File"
   ]
  },
  {
   "cell_type": "code",
   "execution_count": null,
   "metadata": {},
   "outputs": [],
   "source": [
    "syn = synapseclient.Synapse()\n",
    "syn.login()\n"
   ]
  },
  {
   "cell_type": "code",
   "execution_count": null,
   "metadata": {},
   "outputs": [],
   "source": [
    "gene_info_data_file = syn.get(\"syn17015359\").path"
   ]
  },
  {
   "cell_type": "markdown",
   "metadata": {},
   "source": [
    "## Create Validator Object on Data File"
   ]
  },
  {
   "cell_type": "code",
   "execution_count": null,
   "metadata": {},
   "outputs": [],
   "source": [
    "df = pd.read_json(gene_info_data_file)\n",
    "nested_columns = ['target_nominations', 'median_expression', 'druggability', 'ensembl_info']\n",
    "df = GreatExpectationsRunner.convert_nested_columns_to_json(df, nested_columns)\n",
    "validator = context.sources.pandas_default.read_dataframe(df)\n",
    "validator.expectation_suite_name = \"gene_info\""
   ]
  },
  {
   "cell_type": "markdown",
   "metadata": {},
   "source": [
    "## Add Expectations to Validator Object For Each Column"
   ]
  },
  {
   "cell_type": "code",
   "execution_count": null,
   "metadata": {},
   "outputs": [],
   "source": [
    "# ensembl_gene_id\n",
    "validator.expect_column_values_to_be_of_type(\"ensembl_gene_id\", \"str\")\n",
    "validator.expect_column_values_to_not_be_null(\"ensembl_gene_id\")\n",
    "# checks format and allowed characters\n",
    "validator.expect_column_values_to_match_regex(\"ensembl_gene_id\", \"^ENSG\\d{11}$\")\n",
    "validator.expect_column_values_to_be_unique(\"ensembl_gene_id\")\n"
   ]
  },
  {
   "cell_type": "code",
   "execution_count": null,
   "metadata": {},
   "outputs": [],
   "source": [
    "# name\n",
    "validator.expect_column_values_to_be_of_type(\"name\", \"str\")\n",
    "validator.expect_column_value_lengths_to_be_between(\"name\", 1, 200)\n",
    "validator.expect_column_values_to_not_be_null(\"name\", mostly=0.70)"
   ]
  },
  {
   "cell_type": "code",
   "execution_count": null,
   "metadata": {},
   "outputs": [],
   "source": [
    "# summary\n",
    "validator.expect_column_values_to_be_of_type(\"summary\", \"str\")\n",
    "validator.expect_column_values_to_not_be_null(\"summary\", mostly=0.50)"
   ]
  },
  {
   "cell_type": "code",
   "execution_count": null,
   "metadata": {},
   "outputs": [],
   "source": [
    "# hgnc_symbol\n",
    "validator.expect_column_values_to_be_of_type(\"hgnc_symbol\", \"str\")\n",
    "validator.expect_column_value_lengths_to_be_between(\"hgnc_symbol\", 1, 25)\n",
    "validator.expect_column_values_to_match_regex(\"hgnc_symbol\", \"^[a-zA-Z0-9_.-]*$\")\n",
    "validator.expect_column_values_to_not_be_null(\"hgnc_symbol\", mostly=0.70)"
   ]
  },
  {
   "cell_type": "code",
   "execution_count": null,
   "metadata": {},
   "outputs": [],
   "source": [
    "# alias\n",
    "validator.expect_column_values_to_be_of_type(\"alias\", \"list\")\n",
    "validator.expect_column_values_to_not_be_null(\"alias\")\n",
    "validator.expect_column_values_to_have_list_members_of_type(column=\"alias\", member_type=\"str\")"
   ]
  },
  {
   "cell_type": "code",
   "execution_count": null,
   "metadata": {},
   "outputs": [],
   "source": [
    "# is_igap\n",
    "validator.expect_column_values_to_be_of_type(\"is_igap\", \"bool\")\n",
    "validator.expect_column_values_to_not_be_null(\"is_igap\")"
   ]
  },
  {
   "cell_type": "code",
   "execution_count": null,
   "metadata": {},
   "outputs": [],
   "source": [
    "# is_eqtl\n",
    "validator.expect_column_values_to_be_of_type(\"is_eqtl\", \"bool\")\n",
    "validator.expect_column_values_to_not_be_null(\"is_eqtl\")"
   ]
  },
  {
   "cell_type": "code",
   "execution_count": null,
   "metadata": {},
   "outputs": [],
   "source": [
    "# is_any_rna_changed_in_ad_brain\n",
    "validator.expect_column_values_to_be_of_type(\"is_any_rna_changed_in_ad_brain\", \"bool\")\n",
    "validator.expect_column_values_to_not_be_null(\"is_any_rna_changed_in_ad_brain\")"
   ]
  },
  {
   "cell_type": "code",
   "execution_count": null,
   "metadata": {},
   "outputs": [],
   "source": [
    "# rna_brain_change_studied\n",
    "validator.expect_column_values_to_be_of_type(\"rna_brain_change_studied\", \"bool\")\n",
    "validator.expect_column_values_to_not_be_null(\"rna_brain_change_studied\")"
   ]
  },
  {
   "cell_type": "code",
   "execution_count": null,
   "metadata": {},
   "outputs": [],
   "source": [
    "# is_any_protein_changed_in_ad_brain\n",
    "validator.expect_column_values_to_be_of_type(\"is_any_protein_changed_in_ad_brain\", \"bool\")\n",
    "validator.expect_column_values_to_not_be_null(\"is_any_protein_changed_in_ad_brain\")"
   ]
  },
  {
   "cell_type": "code",
   "execution_count": null,
   "metadata": {},
   "outputs": [],
   "source": [
    "# protein_brain_change_studied\n",
    "validator.expect_column_values_to_be_of_type(\"protein_brain_change_studied\", \"bool\")\n",
    "validator.expect_column_values_to_not_be_null(\"protein_brain_change_studied\")"
   ]
  },
  {
   "cell_type": "code",
   "execution_count": null,
   "metadata": {},
   "outputs": [],
   "source": [
    "# target_nominations\n",
    "validator.expect_column_values_to_be_of_type(\"target_nominations\", \"str\")\n",
    "with open(\"../src/agoradatatools/great_expectations/gx/json_schemas/gene_info/target_nominations.json\", \"r\") as file:\n",
    "    target_nominations_schema = json.load(file)\n",
    "validator.expect_column_values_to_match_json_schema(\"target_nominations\", json_schema=target_nominations_schema)"
   ]
  },
  {
   "cell_type": "code",
   "execution_count": null,
   "metadata": {},
   "outputs": [],
   "source": [
    "# median_expression\n",
    "validator.expect_column_values_to_be_of_type(\"median_expression\", \"str\")\n",
    "with open(\"../src/agoradatatools/great_expectations/gx/json_schemas/gene_info/median_expression.json\", \"r\") as file:\n",
    "    median_expression_schema = json.load(file)\n",
    "validator.expect_column_values_to_match_json_schema(\"median_expression\", json_schema=median_expression_schema, mostly=0.95)"
   ]
  },
  {
   "cell_type": "code",
   "execution_count": null,
   "metadata": {},
   "outputs": [],
   "source": [
    "# druggability\n",
    "validator.expect_column_values_to_be_of_type(\"druggability\", \"str\")\n",
    "with open(\"../src/agoradatatools/great_expectations/gx/json_schemas/gene_info/druggability.json\", \"r\") as file:\n",
    "    druggability_schema = json.load(file)\n",
    "validator.expect_column_values_to_match_json_schema(\"druggability\", json_schema=druggability_schema)"
   ]
  },
  {
   "cell_type": "code",
   "execution_count": null,
   "metadata": {},
   "outputs": [],
   "source": [
    "# total_nominations\n",
    "validator.expect_column_values_to_be_of_type(\"total_nominations\", \"float\")\n",
    "validator.expect_column_vaLues_to_be_between(\"total_nominations\", 0, 1000)"
   ]
  },
  {
   "cell_type": "code",
   "execution_count": null,
   "metadata": {},
   "outputs": [],
   "source": [
    "# biodomains\n",
    "validator.expect_column_values_to_be_of_type(\"biodomains\", \"list\")\n",
    "validator.expect_column_values_to_have_list_members_of_type(column=\"biodomains\", member_type=\"str\", mostly=0.95)\n",
    "validator.expect_column_values_to_have_list_members(column=\"biodomains\", list_members={\n",
    "        'Apoptosis',\n",
    "        'Vasculature',\n",
    "        'Lipid Metabolism',\n",
    "        'Metal Binding and Homeostasis',\n",
    "        'Proteostasis',\n",
    "        'Immune Response',\n",
    "        'Cell Cycle',\n",
    "        'DNA Repair',\n",
    "        'Autophagy',\n",
    "        'Mitochondrial Metabolism',\n",
    "        'Structural Stabilization',\n",
    "        'Synapse',\n",
    "        'Endolysosome',\n",
    "        'Oxidative Stress',\n",
    "        'Epigenetic',\n",
    "        'APP Metabolism',\n",
    "        'RNA Spliceosome',\n",
    "        'Tau Homeostasis',\n",
    "        'Myelination'\n",
    "    }\n",
    ")"
   ]
  },
  {
   "cell_type": "code",
   "execution_count": null,
   "metadata": {},
   "outputs": [],
   "source": [
    "# is_adi\n",
    "validator.expect_column_values_to_be_of_type(\"is_adi\", \"bool\")\n",
    "validator.expect_column_values_to_not_be_null(\"is_adi\")"
   ]
  },
  {
   "cell_type": "code",
   "execution_count": null,
   "metadata": {},
   "outputs": [],
   "source": [
    "# is_tep\n",
    "validator.expect_column_values_to_be_of_type(\"is_tep\", \"bool\")\n",
    "validator.expect_column_values_to_not_be_null(\"is_tep\")"
   ]
  },
  {
   "cell_type": "code",
   "execution_count": null,
   "metadata": {},
   "outputs": [],
   "source": [
    "# resource_url\n",
    "validator.expect_column_values_to_be_of_type(\"resource_url\", \"str\")\n",
    "validator.expect_column_values_to_match_regex(\"resource_url\", \"^https://adknowledgeportal.synapse.org/Explore/Target\")"
   ]
  },
  {
   "cell_type": "code",
   "execution_count": null,
   "metadata": {},
   "outputs": [],
   "source": [
    "# ensembl_info\n",
    "validator.expect_column_values_to_be_of_type(\"ensembl_info\", \"str\")\n",
    "validator.expect_column_values_to_not_be_null(\"ensembl_info\")\n",
    "with open(\"../src/agoradatatools/great_expectations/gx/json_schemas/gene_info/ensembl_info.json\", \"r\") as file:\n",
    "    ensembl_info_schema = json.load(file)\n",
    "validator.expect_column_values_to_match_json_schema(\"ensembl_info\", ensembl_info_schema)"
   ]
  },
  {
   "cell_type": "code",
   "execution_count": null,
   "metadata": {},
   "outputs": [],
   "source": [
    "# uniprotkb_accessions\n",
    "validator.expect_column_values_to_be_of_type(\"uniprotkb_accessions\", \"list\", mostly=0.95)\n",
    "validator.expect_column_values_to_have_list_members_of_type(column=\"uniprotkb_accessions\", member_type=\"str\")"
   ]
  },
  {
   "cell_type": "markdown",
   "metadata": {},
   "source": [
    "## Save Expectation Suite"
   ]
  },
  {
   "cell_type": "code",
   "execution_count": null,
   "metadata": {},
   "outputs": [],
   "source": [
    "validator.save_expectation_suite(discard_failed_expectations=False)"
   ]
  },
  {
   "cell_type": "markdown",
   "metadata": {},
   "source": [
    "## Create Checkpoint and View Results"
   ]
  },
  {
   "cell_type": "code",
   "execution_count": null,
   "metadata": {},
   "outputs": [],
   "source": [
    "checkpoint = context.add_or_update_checkpoint(\n",
    "    name=\"agora-test-checkpoint\",\n",
    "    validator=validator,\n",
    ")\n",
    "checkpoint_result = checkpoint.run()\n",
    "# context.view_validation_result(checkpoint_result)"
   ]
  },
  {
   "cell_type": "code",
   "execution_count": null,
   "metadata": {},
   "outputs": [],
   "source": [
    "context.view_validation_result(checkpoint_result)"
   ]
  },
  {
   "cell_type": "markdown",
   "metadata": {},
   "source": [
    "## Build Data Docs - Click on Expectation Suite to View All Expectations"
   ]
  },
  {
   "cell_type": "code",
   "execution_count": null,
   "metadata": {},
   "outputs": [],
   "source": [
    "context.build_data_docs()\n",
    "context.open_data_docs()\n"
   ]
  }
 ],
 "metadata": {
  "kernelspec": {
   "display_name": "Python 3",
   "language": "python",
   "name": "python3"
  },
  "language_info": {
   "codemirror_mode": {
    "name": "ipython",
    "version": 3
   },
   "file_extension": ".py",
   "mimetype": "text/x-python",
   "name": "python",
   "nbconvert_exporter": "python",
   "pygments_lexer": "ipython3",
   "version": "3.9.13"
  }
 },
 "nbformat": 4,
 "nbformat_minor": 2
}
