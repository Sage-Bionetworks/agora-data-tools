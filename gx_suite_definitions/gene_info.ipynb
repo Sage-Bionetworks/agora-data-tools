{
 "cells": [
  {
   "cell_type": "code",
   "execution_count": 69,
   "metadata": {},
   "outputs": [],
   "source": [
    "import json\n",
    "\n",
    "import pandas as pd\n",
    "\n",
    "import great_expectations as gx\n",
    "import synapseclient\n",
    "\n",
    "from agoradatatools.gx import GreatExpectationsRunner\n",
    "\n",
    "context = gx.get_context(project_root_dir='../src/agoradatatools/great_expectations')\n",
    "\n",
    "from expectations.expect_column_values_to_have_list_length import \\\n",
    "    ExpectColumnValuesToHaveListLength\n",
    "from expectations.expect_column_values_to_have_list_members import \\\n",
    "    ExpectColumnValuesToHaveListMembers\n",
    "from expectations.expect_column_values_to_have_list_members_of_type import \\\n",
    "    ExpectColumnValuesToHaveListMembersOfType"
   ]
  },
  {
   "cell_type": "markdown",
   "metadata": {},
   "source": [
    "# Create Expectation Suite for Gene Info Data"
   ]
  },
  {
   "cell_type": "markdown",
   "metadata": {},
   "source": [
    "## Get Example Data File"
   ]
  },
  {
   "cell_type": "code",
   "execution_count": 70,
   "metadata": {},
   "outputs": [
    {
     "name": "stdout",
     "output_type": "stream",
     "text": [
      "Welcome, Brad Macdonald!\n",
      "\n",
      "INFO: 2024-06-27 11:52:39 | synapseclient_default | Welcome, Brad Macdonald!\n",
      "\n"
     ]
    },
    {
     "name": "stderr",
     "output_type": "stream",
     "text": [
      "\n",
      "UPGRADE AVAILABLE\n",
      "\n",
      "A more recent version of the Synapse Client (4.3.0) is available. Your version (4.0.0) can be upgraded by typing:\n",
      "    pip install --upgrade synapseclient\n",
      "\n",
      "Python Synapse Client version 4.3.0 release notes\n",
      "\n",
      "https://python-docs.synapse.org/news/\n",
      "\n"
     ]
    }
   ],
   "source": [
    "syn = synapseclient.Synapse()\n",
    "syn.login()\n"
   ]
  },
  {
   "cell_type": "code",
   "execution_count": 71,
   "metadata": {},
   "outputs": [],
   "source": [
    "gene_info_data_file = syn.get(\"syn17015359\").path"
   ]
  },
  {
   "cell_type": "markdown",
   "metadata": {},
   "source": [
    "## Create Validator Object on Data File"
   ]
  },
  {
   "cell_type": "code",
   "execution_count": 72,
   "metadata": {},
   "outputs": [],
   "source": [
    "df = pd.read_json(gene_info_data_file)\n",
    "nested_columns = ['target_nominations', 'median_expression', 'druggability', 'ensembl_info']\n",
    "df = GreatExpectationsRunner.convert_nested_columns_to_json(df, nested_columns)\n",
    "validator = context.sources.pandas_default.read_dataframe(df)\n",
    "validator.expectation_suite_name = \"gene_info\""
   ]
  },
  {
   "cell_type": "markdown",
   "metadata": {},
   "source": [
    "## Add Expectations to Validator Object For Each Column"
   ]
  },
  {
   "cell_type": "code",
   "execution_count": 74,
   "metadata": {},
   "outputs": [
    {
     "name": "stderr",
     "output_type": "stream",
     "text": [
      "[WARNING] <>:6: DeprecationWarning: invalid escape sequence \\d\n",
      "\n"
     ]
    },
    {
     "name": "stdout",
     "output_type": "stream",
     "text": [
      "WARNING: 2024-06-27 11:52:42 | py.warnings | <>:6: DeprecationWarning: invalid escape sequence \\d\n",
      "\n"
     ]
    },
    {
     "name": "stderr",
     "output_type": "stream",
     "text": [
      "[WARNING] <>:6: DeprecationWarning: invalid escape sequence \\d\n",
      "\n"
     ]
    },
    {
     "name": "stdout",
     "output_type": "stream",
     "text": [
      "WARNING: 2024-06-27 11:52:42 | py.warnings | <>:6: DeprecationWarning: invalid escape sequence \\d\n",
      "\n"
     ]
    },
    {
     "name": "stderr",
     "output_type": "stream",
     "text": [
      "[WARNING] /var/folders/sr/3g4hnkfd4ld306tty7kqf1rr0000gr/T/ipykernel_64698/2773054897.py:6: DeprecationWarning: invalid escape sequence \\d\n",
      "  validator.expect_column_values_to_match_regex(\"ensembl_gene_id\", \"^ENSG\\d{11}$\")\n",
      "\n"
     ]
    },
    {
     "name": "stdout",
     "output_type": "stream",
     "text": [
      "WARNING: 2024-06-27 11:52:42 | py.warnings | /var/folders/sr/3g4hnkfd4ld306tty7kqf1rr0000gr/T/ipykernel_64698/2773054897.py:6: DeprecationWarning: invalid escape sequence \\d\n",
      "  validator.expect_column_values_to_match_regex(\"ensembl_gene_id\", \"^ENSG\\d{11}$\")\n",
      "\n"
     ]
    },
    {
     "name": "stderr",
     "output_type": "stream",
     "text": [
      "[WARNING] /Users/bmacdonald/.local/share/virtualenvs/agora-data-tools-CK0oUlHB/lib/python3.9/site-packages/great_expectations/expectations/expectation.py:1481: UserWarning: `result_format` configured at the Validator-level will not be persisted. Please add the configuration to your Checkpoint config or checkpoint_run() method instead.\n",
      "  warnings.warn(\n",
      "\n"
     ]
    },
    {
     "name": "stdout",
     "output_type": "stream",
     "text": [
      "WARNING: 2024-06-27 11:52:42 | py.warnings | /Users/bmacdonald/.local/share/virtualenvs/agora-data-tools-CK0oUlHB/lib/python3.9/site-packages/great_expectations/expectations/expectation.py:1481: UserWarning: `result_format` configured at the Validator-level will not be persisted. Please add the configuration to your Checkpoint config or checkpoint_run() method instead.\n",
      "  warnings.warn(\n",
      "\n"
     ]
    },
    {
     "data": {
      "application/vnd.jupyter.widget-view+json": {
       "model_id": "6234a4d6a77c480485a6f02cf50734e2",
       "version_major": 2,
       "version_minor": 0
      },
      "text/plain": [
       "Calculating Metrics:   0%|          | 0/8 [00:00<?, ?it/s]"
      ]
     },
     "metadata": {},
     "output_type": "display_data"
    },
    {
     "name": "stderr",
     "output_type": "stream",
     "text": [
      "[WARNING] /Users/bmacdonald/.local/share/virtualenvs/agora-data-tools-CK0oUlHB/lib/python3.9/site-packages/great_expectations/expectations/expectation.py:1481: UserWarning: `result_format` configured at the Validator-level will not be persisted. Please add the configuration to your Checkpoint config or checkpoint_run() method instead.\n",
      "  warnings.warn(\n",
      "\n"
     ]
    },
    {
     "name": "stdout",
     "output_type": "stream",
     "text": [
      "WARNING: 2024-06-27 11:52:42 | py.warnings | /Users/bmacdonald/.local/share/virtualenvs/agora-data-tools-CK0oUlHB/lib/python3.9/site-packages/great_expectations/expectations/expectation.py:1481: UserWarning: `result_format` configured at the Validator-level will not be persisted. Please add the configuration to your Checkpoint config or checkpoint_run() method instead.\n",
      "  warnings.warn(\n",
      "\n"
     ]
    },
    {
     "data": {
      "application/vnd.jupyter.widget-view+json": {
       "model_id": "a0c76865bf544920b343da63b4af85f1",
       "version_major": 2,
       "version_minor": 0
      },
      "text/plain": [
       "Calculating Metrics:   0%|          | 0/6 [00:00<?, ?it/s]"
      ]
     },
     "metadata": {},
     "output_type": "display_data"
    },
    {
     "name": "stderr",
     "output_type": "stream",
     "text": [
      "[WARNING] /Users/bmacdonald/.local/share/virtualenvs/agora-data-tools-CK0oUlHB/lib/python3.9/site-packages/great_expectations/expectations/expectation.py:1481: UserWarning: `result_format` configured at the Validator-level will not be persisted. Please add the configuration to your Checkpoint config or checkpoint_run() method instead.\n",
      "  warnings.warn(\n",
      "\n"
     ]
    },
    {
     "name": "stdout",
     "output_type": "stream",
     "text": [
      "WARNING: 2024-06-27 11:52:42 | py.warnings | /Users/bmacdonald/.local/share/virtualenvs/agora-data-tools-CK0oUlHB/lib/python3.9/site-packages/great_expectations/expectations/expectation.py:1481: UserWarning: `result_format` configured at the Validator-level will not be persisted. Please add the configuration to your Checkpoint config or checkpoint_run() method instead.\n",
      "  warnings.warn(\n",
      "\n"
     ]
    },
    {
     "data": {
      "application/vnd.jupyter.widget-view+json": {
       "model_id": "833fe07d18d04f5eb678cde5336e01eb",
       "version_major": 2,
       "version_minor": 0
      },
      "text/plain": [
       "Calculating Metrics:   0%|          | 0/9 [00:00<?, ?it/s]"
      ]
     },
     "metadata": {},
     "output_type": "display_data"
    },
    {
     "name": "stderr",
     "output_type": "stream",
     "text": [
      "[WARNING] /Users/bmacdonald/.local/share/virtualenvs/agora-data-tools-CK0oUlHB/lib/python3.9/site-packages/great_expectations/expectations/expectation.py:1481: UserWarning: `result_format` configured at the Validator-level will not be persisted. Please add the configuration to your Checkpoint config or checkpoint_run() method instead.\n",
      "  warnings.warn(\n",
      "\n"
     ]
    },
    {
     "name": "stdout",
     "output_type": "stream",
     "text": [
      "WARNING: 2024-06-27 11:52:42 | py.warnings | /Users/bmacdonald/.local/share/virtualenvs/agora-data-tools-CK0oUlHB/lib/python3.9/site-packages/great_expectations/expectations/expectation.py:1481: UserWarning: `result_format` configured at the Validator-level will not be persisted. Please add the configuration to your Checkpoint config or checkpoint_run() method instead.\n",
      "  warnings.warn(\n",
      "\n"
     ]
    },
    {
     "data": {
      "application/vnd.jupyter.widget-view+json": {
       "model_id": "78386b953ada4923b1faef9282241efe",
       "version_major": 2,
       "version_minor": 0
      },
      "text/plain": [
       "Calculating Metrics:   0%|          | 0/8 [00:00<?, ?it/s]"
      ]
     },
     "metadata": {},
     "output_type": "display_data"
    },
    {
     "name": "stderr",
     "output_type": "stream",
     "text": [
      "[WARNING] /Users/bmacdonald/.local/share/virtualenvs/agora-data-tools-CK0oUlHB/lib/python3.9/site-packages/great_expectations/expectations/expectation.py:1481: UserWarning: `result_format` configured at the Validator-level will not be persisted. Please add the configuration to your Checkpoint config or checkpoint_run() method instead.\n",
      "  warnings.warn(\n",
      "\n"
     ]
    },
    {
     "name": "stdout",
     "output_type": "stream",
     "text": [
      "WARNING: 2024-06-27 11:52:42 | py.warnings | /Users/bmacdonald/.local/share/virtualenvs/agora-data-tools-CK0oUlHB/lib/python3.9/site-packages/great_expectations/expectations/expectation.py:1481: UserWarning: `result_format` configured at the Validator-level will not be persisted. Please add the configuration to your Checkpoint config or checkpoint_run() method instead.\n",
      "  warnings.warn(\n",
      "\n"
     ]
    },
    {
     "data": {
      "application/vnd.jupyter.widget-view+json": {
       "model_id": "9d353be2ea0f4c7286b159782f154484",
       "version_major": 2,
       "version_minor": 0
      },
      "text/plain": [
       "Calculating Metrics:   0%|          | 0/8 [00:00<?, ?it/s]"
      ]
     },
     "metadata": {},
     "output_type": "display_data"
    },
    {
     "data": {
      "text/plain": [
       "{\n",
       "  \"success\": true,\n",
       "  \"result\": {\n",
       "    \"element_count\": 37452,\n",
       "    \"unexpected_count\": 0,\n",
       "    \"unexpected_percent\": 0.0,\n",
       "    \"partial_unexpected_list\": [],\n",
       "    \"missing_count\": 0,\n",
       "    \"missing_percent\": 0.0,\n",
       "    \"unexpected_percent_total\": 0.0,\n",
       "    \"unexpected_percent_nonmissing\": 0.0\n",
       "  },\n",
       "  \"meta\": {},\n",
       "  \"exception_info\": {\n",
       "    \"raised_exception\": false,\n",
       "    \"exception_traceback\": null,\n",
       "    \"exception_message\": null\n",
       "  }\n",
       "}"
      ]
     },
     "execution_count": 74,
     "metadata": {},
     "output_type": "execute_result"
    }
   ],
   "source": [
    "# ensembl_gene_id\n",
    "validator.expect_column_values_to_be_of_type(\"ensembl_gene_id\", \"str\")\n",
    "validator.expect_column_values_to_not_be_null(\"ensembl_gene_id\")\n",
    "validator.expect_column_value_lengths_to_equal(\"ensembl_gene_id\", 15)\n",
    "# checks format and allowed chatacters\n",
    "validator.expect_column_values_to_match_regex(\"ensembl_gene_id\", \"^ENSG\\d{11}$\")\n",
    "validator.expect_column_values_to_be_unique(\"ensembl_gene_id\")\n"
   ]
  },
  {
   "cell_type": "code",
   "execution_count": 75,
   "metadata": {},
   "outputs": [
    {
     "name": "stderr",
     "output_type": "stream",
     "text": [
      "[WARNING] /Users/bmacdonald/.local/share/virtualenvs/agora-data-tools-CK0oUlHB/lib/python3.9/site-packages/great_expectations/expectations/expectation.py:1481: UserWarning: `result_format` configured at the Validator-level will not be persisted. Please add the configuration to your Checkpoint config or checkpoint_run() method instead.\n",
      "  warnings.warn(\n",
      "\n"
     ]
    },
    {
     "name": "stdout",
     "output_type": "stream",
     "text": [
      "WARNING: 2024-06-27 11:52:43 | py.warnings | /Users/bmacdonald/.local/share/virtualenvs/agora-data-tools-CK0oUlHB/lib/python3.9/site-packages/great_expectations/expectations/expectation.py:1481: UserWarning: `result_format` configured at the Validator-level will not be persisted. Please add the configuration to your Checkpoint config or checkpoint_run() method instead.\n",
      "  warnings.warn(\n",
      "\n"
     ]
    },
    {
     "data": {
      "application/vnd.jupyter.widget-view+json": {
       "model_id": "27a8ebbcc43d4d6596758b4086ceb751",
       "version_major": 2,
       "version_minor": 0
      },
      "text/plain": [
       "Calculating Metrics:   0%|          | 0/8 [00:00<?, ?it/s]"
      ]
     },
     "metadata": {},
     "output_type": "display_data"
    },
    {
     "name": "stderr",
     "output_type": "stream",
     "text": [
      "[WARNING] /Users/bmacdonald/.local/share/virtualenvs/agora-data-tools-CK0oUlHB/lib/python3.9/site-packages/great_expectations/expectations/expectation.py:1481: UserWarning: `result_format` configured at the Validator-level will not be persisted. Please add the configuration to your Checkpoint config or checkpoint_run() method instead.\n",
      "  warnings.warn(\n",
      "\n"
     ]
    },
    {
     "name": "stdout",
     "output_type": "stream",
     "text": [
      "WARNING: 2024-06-27 11:52:43 | py.warnings | /Users/bmacdonald/.local/share/virtualenvs/agora-data-tools-CK0oUlHB/lib/python3.9/site-packages/great_expectations/expectations/expectation.py:1481: UserWarning: `result_format` configured at the Validator-level will not be persisted. Please add the configuration to your Checkpoint config or checkpoint_run() method instead.\n",
      "  warnings.warn(\n",
      "\n"
     ]
    },
    {
     "data": {
      "application/vnd.jupyter.widget-view+json": {
       "model_id": "a2a2fab535514d53b42d24d32f74069c",
       "version_major": 2,
       "version_minor": 0
      },
      "text/plain": [
       "Calculating Metrics:   0%|          | 0/9 [00:00<?, ?it/s]"
      ]
     },
     "metadata": {},
     "output_type": "display_data"
    },
    {
     "name": "stderr",
     "output_type": "stream",
     "text": [
      "[WARNING] /Users/bmacdonald/.local/share/virtualenvs/agora-data-tools-CK0oUlHB/lib/python3.9/site-packages/great_expectations/expectations/expectation.py:1481: UserWarning: `result_format` configured at the Validator-level will not be persisted. Please add the configuration to your Checkpoint config or checkpoint_run() method instead.\n",
      "  warnings.warn(\n",
      "\n"
     ]
    },
    {
     "name": "stdout",
     "output_type": "stream",
     "text": [
      "WARNING: 2024-06-27 11:52:43 | py.warnings | /Users/bmacdonald/.local/share/virtualenvs/agora-data-tools-CK0oUlHB/lib/python3.9/site-packages/great_expectations/expectations/expectation.py:1481: UserWarning: `result_format` configured at the Validator-level will not be persisted. Please add the configuration to your Checkpoint config or checkpoint_run() method instead.\n",
      "  warnings.warn(\n",
      "\n"
     ]
    },
    {
     "data": {
      "application/vnd.jupyter.widget-view+json": {
       "model_id": "5da1867de37c4960acaa1f6a2377349a",
       "version_major": 2,
       "version_minor": 0
      },
      "text/plain": [
       "Calculating Metrics:   0%|          | 0/6 [00:00<?, ?it/s]"
      ]
     },
     "metadata": {},
     "output_type": "display_data"
    },
    {
     "data": {
      "text/plain": [
       "{\n",
       "  \"success\": true,\n",
       "  \"result\": {\n",
       "    \"element_count\": 37452,\n",
       "    \"unexpected_count\": 7639,\n",
       "    \"unexpected_percent\": 20.396774538075405,\n",
       "    \"partial_unexpected_list\": [\n",
       "      null,\n",
       "      null,\n",
       "      null,\n",
       "      null,\n",
       "      null,\n",
       "      null,\n",
       "      null,\n",
       "      null,\n",
       "      null,\n",
       "      null,\n",
       "      null,\n",
       "      null,\n",
       "      null,\n",
       "      null,\n",
       "      null,\n",
       "      null,\n",
       "      null,\n",
       "      null,\n",
       "      null,\n",
       "      null\n",
       "    ]\n",
       "  },\n",
       "  \"meta\": {},\n",
       "  \"exception_info\": {\n",
       "    \"raised_exception\": false,\n",
       "    \"exception_traceback\": null,\n",
       "    \"exception_message\": null\n",
       "  }\n",
       "}"
      ]
     },
     "execution_count": 75,
     "metadata": {},
     "output_type": "execute_result"
    }
   ],
   "source": [
    "# name\n",
    "validator.expect_column_values_to_be_of_type(\"name\", \"str\")\n",
    "validator.expect_column_value_lengths_to_be_between(\"name\", 1, 200)\n",
    "validator.expect_column_values_to_not_be_null(\"name\", mostly=0.70)"
   ]
  },
  {
   "cell_type": "code",
   "execution_count": 76,
   "metadata": {},
   "outputs": [
    {
     "name": "stderr",
     "output_type": "stream",
     "text": [
      "[WARNING] /Users/bmacdonald/.local/share/virtualenvs/agora-data-tools-CK0oUlHB/lib/python3.9/site-packages/great_expectations/expectations/expectation.py:1481: UserWarning: `result_format` configured at the Validator-level will not be persisted. Please add the configuration to your Checkpoint config or checkpoint_run() method instead.\n",
      "  warnings.warn(\n",
      "\n"
     ]
    },
    {
     "name": "stdout",
     "output_type": "stream",
     "text": [
      "WARNING: 2024-06-27 11:52:43 | py.warnings | /Users/bmacdonald/.local/share/virtualenvs/agora-data-tools-CK0oUlHB/lib/python3.9/site-packages/great_expectations/expectations/expectation.py:1481: UserWarning: `result_format` configured at the Validator-level will not be persisted. Please add the configuration to your Checkpoint config or checkpoint_run() method instead.\n",
      "  warnings.warn(\n",
      "\n"
     ]
    },
    {
     "data": {
      "application/vnd.jupyter.widget-view+json": {
       "model_id": "8119321e53cc499585f79a756d5771d9",
       "version_major": 2,
       "version_minor": 0
      },
      "text/plain": [
       "Calculating Metrics:   0%|          | 0/8 [00:00<?, ?it/s]"
      ]
     },
     "metadata": {},
     "output_type": "display_data"
    },
    {
     "name": "stderr",
     "output_type": "stream",
     "text": [
      "[WARNING] /Users/bmacdonald/.local/share/virtualenvs/agora-data-tools-CK0oUlHB/lib/python3.9/site-packages/great_expectations/expectations/expectation.py:1481: UserWarning: `result_format` configured at the Validator-level will not be persisted. Please add the configuration to your Checkpoint config or checkpoint_run() method instead.\n",
      "  warnings.warn(\n",
      "\n"
     ]
    },
    {
     "name": "stdout",
     "output_type": "stream",
     "text": [
      "WARNING: 2024-06-27 11:52:43 | py.warnings | /Users/bmacdonald/.local/share/virtualenvs/agora-data-tools-CK0oUlHB/lib/python3.9/site-packages/great_expectations/expectations/expectation.py:1481: UserWarning: `result_format` configured at the Validator-level will not be persisted. Please add the configuration to your Checkpoint config or checkpoint_run() method instead.\n",
      "  warnings.warn(\n",
      "\n"
     ]
    },
    {
     "data": {
      "application/vnd.jupyter.widget-view+json": {
       "model_id": "b8850dd2a7db42f3ab2002b540cf647b",
       "version_major": 2,
       "version_minor": 0
      },
      "text/plain": [
       "Calculating Metrics:   0%|          | 0/6 [00:00<?, ?it/s]"
      ]
     },
     "metadata": {},
     "output_type": "display_data"
    },
    {
     "data": {
      "text/plain": [
       "{\n",
       "  \"success\": true,\n",
       "  \"result\": {\n",
       "    \"element_count\": 37452,\n",
       "    \"unexpected_count\": 17323,\n",
       "    \"unexpected_percent\": 46.25387162234327,\n",
       "    \"partial_unexpected_list\": [\n",
       "      null,\n",
       "      null,\n",
       "      null,\n",
       "      null,\n",
       "      null,\n",
       "      null,\n",
       "      null,\n",
       "      null,\n",
       "      null,\n",
       "      null,\n",
       "      null,\n",
       "      null,\n",
       "      null,\n",
       "      null,\n",
       "      null,\n",
       "      null,\n",
       "      null,\n",
       "      null,\n",
       "      null,\n",
       "      null\n",
       "    ]\n",
       "  },\n",
       "  \"meta\": {},\n",
       "  \"exception_info\": {\n",
       "    \"raised_exception\": false,\n",
       "    \"exception_traceback\": null,\n",
       "    \"exception_message\": null\n",
       "  }\n",
       "}"
      ]
     },
     "execution_count": 76,
     "metadata": {},
     "output_type": "execute_result"
    }
   ],
   "source": [
    "# summary\n",
    "validator.expect_column_values_to_be_of_type(\"summary\", \"str\")\n",
    "validator.expect_column_values_to_not_be_null(\"summary\", mostly=0.50)"
   ]
  },
  {
   "cell_type": "code",
   "execution_count": 77,
   "metadata": {},
   "outputs": [
    {
     "name": "stderr",
     "output_type": "stream",
     "text": [
      "[WARNING] /Users/bmacdonald/.local/share/virtualenvs/agora-data-tools-CK0oUlHB/lib/python3.9/site-packages/great_expectations/expectations/expectation.py:1481: UserWarning: `result_format` configured at the Validator-level will not be persisted. Please add the configuration to your Checkpoint config or checkpoint_run() method instead.\n",
      "  warnings.warn(\n",
      "\n"
     ]
    },
    {
     "name": "stdout",
     "output_type": "stream",
     "text": [
      "WARNING: 2024-06-27 11:52:43 | py.warnings | /Users/bmacdonald/.local/share/virtualenvs/agora-data-tools-CK0oUlHB/lib/python3.9/site-packages/great_expectations/expectations/expectation.py:1481: UserWarning: `result_format` configured at the Validator-level will not be persisted. Please add the configuration to your Checkpoint config or checkpoint_run() method instead.\n",
      "  warnings.warn(\n",
      "\n"
     ]
    },
    {
     "data": {
      "application/vnd.jupyter.widget-view+json": {
       "model_id": "047d3439470f448081e9345d135c754d",
       "version_major": 2,
       "version_minor": 0
      },
      "text/plain": [
       "Calculating Metrics:   0%|          | 0/8 [00:00<?, ?it/s]"
      ]
     },
     "metadata": {},
     "output_type": "display_data"
    },
    {
     "name": "stderr",
     "output_type": "stream",
     "text": [
      "[WARNING] /Users/bmacdonald/.local/share/virtualenvs/agora-data-tools-CK0oUlHB/lib/python3.9/site-packages/great_expectations/expectations/expectation.py:1481: UserWarning: `result_format` configured at the Validator-level will not be persisted. Please add the configuration to your Checkpoint config or checkpoint_run() method instead.\n",
      "  warnings.warn(\n",
      "\n"
     ]
    },
    {
     "name": "stdout",
     "output_type": "stream",
     "text": [
      "WARNING: 2024-06-27 11:52:43 | py.warnings | /Users/bmacdonald/.local/share/virtualenvs/agora-data-tools-CK0oUlHB/lib/python3.9/site-packages/great_expectations/expectations/expectation.py:1481: UserWarning: `result_format` configured at the Validator-level will not be persisted. Please add the configuration to your Checkpoint config or checkpoint_run() method instead.\n",
      "  warnings.warn(\n",
      "\n"
     ]
    },
    {
     "data": {
      "application/vnd.jupyter.widget-view+json": {
       "model_id": "bc4489e94c8442fe86edbc4f2272e2b8",
       "version_major": 2,
       "version_minor": 0
      },
      "text/plain": [
       "Calculating Metrics:   0%|          | 0/9 [00:00<?, ?it/s]"
      ]
     },
     "metadata": {},
     "output_type": "display_data"
    },
    {
     "name": "stderr",
     "output_type": "stream",
     "text": [
      "[WARNING] /Users/bmacdonald/.local/share/virtualenvs/agora-data-tools-CK0oUlHB/lib/python3.9/site-packages/great_expectations/expectations/expectation.py:1481: UserWarning: `result_format` configured at the Validator-level will not be persisted. Please add the configuration to your Checkpoint config or checkpoint_run() method instead.\n",
      "  warnings.warn(\n",
      "\n"
     ]
    },
    {
     "name": "stdout",
     "output_type": "stream",
     "text": [
      "WARNING: 2024-06-27 11:52:43 | py.warnings | /Users/bmacdonald/.local/share/virtualenvs/agora-data-tools-CK0oUlHB/lib/python3.9/site-packages/great_expectations/expectations/expectation.py:1481: UserWarning: `result_format` configured at the Validator-level will not be persisted. Please add the configuration to your Checkpoint config or checkpoint_run() method instead.\n",
      "  warnings.warn(\n",
      "\n"
     ]
    },
    {
     "data": {
      "application/vnd.jupyter.widget-view+json": {
       "model_id": "7fcca76e03b24e0d93c684729e898c91",
       "version_major": 2,
       "version_minor": 0
      },
      "text/plain": [
       "Calculating Metrics:   0%|          | 0/8 [00:00<?, ?it/s]"
      ]
     },
     "metadata": {},
     "output_type": "display_data"
    },
    {
     "name": "stderr",
     "output_type": "stream",
     "text": [
      "[WARNING] /Users/bmacdonald/.local/share/virtualenvs/agora-data-tools-CK0oUlHB/lib/python3.9/site-packages/great_expectations/expectations/expectation.py:1481: UserWarning: `result_format` configured at the Validator-level will not be persisted. Please add the configuration to your Checkpoint config or checkpoint_run() method instead.\n",
      "  warnings.warn(\n",
      "\n"
     ]
    },
    {
     "name": "stdout",
     "output_type": "stream",
     "text": [
      "WARNING: 2024-06-27 11:52:43 | py.warnings | /Users/bmacdonald/.local/share/virtualenvs/agora-data-tools-CK0oUlHB/lib/python3.9/site-packages/great_expectations/expectations/expectation.py:1481: UserWarning: `result_format` configured at the Validator-level will not be persisted. Please add the configuration to your Checkpoint config or checkpoint_run() method instead.\n",
      "  warnings.warn(\n",
      "\n"
     ]
    },
    {
     "data": {
      "application/vnd.jupyter.widget-view+json": {
       "model_id": "5a81854d32a043b1a1907e3147fc537d",
       "version_major": 2,
       "version_minor": 0
      },
      "text/plain": [
       "Calculating Metrics:   0%|          | 0/6 [00:00<?, ?it/s]"
      ]
     },
     "metadata": {},
     "output_type": "display_data"
    },
    {
     "data": {
      "text/plain": [
       "{\n",
       "  \"success\": true,\n",
       "  \"result\": {\n",
       "    \"element_count\": 37452,\n",
       "    \"unexpected_count\": 7639,\n",
       "    \"unexpected_percent\": 20.396774538075405,\n",
       "    \"partial_unexpected_list\": [\n",
       "      null,\n",
       "      null,\n",
       "      null,\n",
       "      null,\n",
       "      null,\n",
       "      null,\n",
       "      null,\n",
       "      null,\n",
       "      null,\n",
       "      null,\n",
       "      null,\n",
       "      null,\n",
       "      null,\n",
       "      null,\n",
       "      null,\n",
       "      null,\n",
       "      null,\n",
       "      null,\n",
       "      null,\n",
       "      null\n",
       "    ]\n",
       "  },\n",
       "  \"meta\": {},\n",
       "  \"exception_info\": {\n",
       "    \"raised_exception\": false,\n",
       "    \"exception_traceback\": null,\n",
       "    \"exception_message\": null\n",
       "  }\n",
       "}"
      ]
     },
     "execution_count": 77,
     "metadata": {},
     "output_type": "execute_result"
    }
   ],
   "source": [
    "# hgnc_symbol\n",
    "validator.expect_column_values_to_be_of_type(\"hgnc_symbol\", \"str\")\n",
    "validator.expect_column_value_lengths_to_be_between(\"hgnc_symbol\", 1, 25)\n",
    "validator.expect_column_values_to_match_regex(\"hgnc_symbol\", \"^[a-zA-Z0-9_.-]*$\")\n",
    "validator.expect_column_values_to_not_be_null(\"hgnc_symbol\", mostly=0.70)"
   ]
  },
  {
   "cell_type": "code",
   "execution_count": 78,
   "metadata": {},
   "outputs": [
    {
     "name": "stderr",
     "output_type": "stream",
     "text": [
      "[WARNING] /Users/bmacdonald/.local/share/virtualenvs/agora-data-tools-CK0oUlHB/lib/python3.9/site-packages/great_expectations/expectations/expectation.py:1481: UserWarning: `result_format` configured at the Validator-level will not be persisted. Please add the configuration to your Checkpoint config or checkpoint_run() method instead.\n",
      "  warnings.warn(\n",
      "\n"
     ]
    },
    {
     "name": "stdout",
     "output_type": "stream",
     "text": [
      "WARNING: 2024-06-27 11:52:43 | py.warnings | /Users/bmacdonald/.local/share/virtualenvs/agora-data-tools-CK0oUlHB/lib/python3.9/site-packages/great_expectations/expectations/expectation.py:1481: UserWarning: `result_format` configured at the Validator-level will not be persisted. Please add the configuration to your Checkpoint config or checkpoint_run() method instead.\n",
      "  warnings.warn(\n",
      "\n"
     ]
    },
    {
     "data": {
      "application/vnd.jupyter.widget-view+json": {
       "model_id": "bbad1858ccff45e8a56490567e1dc656",
       "version_major": 2,
       "version_minor": 0
      },
      "text/plain": [
       "Calculating Metrics:   0%|          | 0/8 [00:00<?, ?it/s]"
      ]
     },
     "metadata": {},
     "output_type": "display_data"
    },
    {
     "name": "stderr",
     "output_type": "stream",
     "text": [
      "[WARNING] /Users/bmacdonald/.local/share/virtualenvs/agora-data-tools-CK0oUlHB/lib/python3.9/site-packages/great_expectations/expectations/expectation.py:1481: UserWarning: `result_format` configured at the Validator-level will not be persisted. Please add the configuration to your Checkpoint config or checkpoint_run() method instead.\n",
      "  warnings.warn(\n",
      "\n"
     ]
    },
    {
     "name": "stdout",
     "output_type": "stream",
     "text": [
      "WARNING: 2024-06-27 11:52:43 | py.warnings | /Users/bmacdonald/.local/share/virtualenvs/agora-data-tools-CK0oUlHB/lib/python3.9/site-packages/great_expectations/expectations/expectation.py:1481: UserWarning: `result_format` configured at the Validator-level will not be persisted. Please add the configuration to your Checkpoint config or checkpoint_run() method instead.\n",
      "  warnings.warn(\n",
      "\n"
     ]
    },
    {
     "data": {
      "application/vnd.jupyter.widget-view+json": {
       "model_id": "44d1965c56ea4ad1974f81fbfde4d298",
       "version_major": 2,
       "version_minor": 0
      },
      "text/plain": [
       "Calculating Metrics:   0%|          | 0/6 [00:00<?, ?it/s]"
      ]
     },
     "metadata": {},
     "output_type": "display_data"
    },
    {
     "name": "stderr",
     "output_type": "stream",
     "text": [
      "[WARNING] /Users/bmacdonald/.local/share/virtualenvs/agora-data-tools-CK0oUlHB/lib/python3.9/site-packages/great_expectations/expectations/expectation.py:1481: UserWarning: `result_format` configured at the Validator-level will not be persisted. Please add the configuration to your Checkpoint config or checkpoint_run() method instead.\n",
      "  warnings.warn(\n",
      "\n"
     ]
    },
    {
     "name": "stdout",
     "output_type": "stream",
     "text": [
      "WARNING: 2024-06-27 11:52:43 | py.warnings | /Users/bmacdonald/.local/share/virtualenvs/agora-data-tools-CK0oUlHB/lib/python3.9/site-packages/great_expectations/expectations/expectation.py:1481: UserWarning: `result_format` configured at the Validator-level will not be persisted. Please add the configuration to your Checkpoint config or checkpoint_run() method instead.\n",
      "  warnings.warn(\n",
      "\n"
     ]
    },
    {
     "data": {
      "application/vnd.jupyter.widget-view+json": {
       "model_id": "e91f9e04f60646199444ff4adf2d30f3",
       "version_major": 2,
       "version_minor": 0
      },
      "text/plain": [
       "Calculating Metrics:   0%|          | 0/8 [00:00<?, ?it/s]"
      ]
     },
     "metadata": {},
     "output_type": "display_data"
    },
    {
     "data": {
      "text/plain": [
       "{\n",
       "  \"success\": true,\n",
       "  \"result\": {\n",
       "    \"element_count\": 37452,\n",
       "    \"unexpected_count\": 0,\n",
       "    \"unexpected_percent\": 0.0,\n",
       "    \"partial_unexpected_list\": [],\n",
       "    \"missing_count\": 0,\n",
       "    \"missing_percent\": 0.0,\n",
       "    \"unexpected_percent_total\": 0.0,\n",
       "    \"unexpected_percent_nonmissing\": 0.0\n",
       "  },\n",
       "  \"meta\": {},\n",
       "  \"exception_info\": {\n",
       "    \"raised_exception\": false,\n",
       "    \"exception_traceback\": null,\n",
       "    \"exception_message\": null\n",
       "  }\n",
       "}"
      ]
     },
     "execution_count": 78,
     "metadata": {},
     "output_type": "execute_result"
    }
   ],
   "source": [
    "# alias\n",
    "validator.expect_column_values_to_be_of_type(\"alias\", \"list\")\n",
    "validator.expect_column_values_to_not_be_null(\"alias\")\n",
    "validator.expect_column_values_to_have_list_members_of_type(column=\"alias\", member_type=\"str\")"
   ]
  },
  {
   "cell_type": "code",
   "execution_count": 79,
   "metadata": {},
   "outputs": [
    {
     "name": "stderr",
     "output_type": "stream",
     "text": [
      "[WARNING] /Users/bmacdonald/.local/share/virtualenvs/agora-data-tools-CK0oUlHB/lib/python3.9/site-packages/great_expectations/expectations/expectation.py:1481: UserWarning: `result_format` configured at the Validator-level will not be persisted. Please add the configuration to your Checkpoint config or checkpoint_run() method instead.\n",
      "  warnings.warn(\n",
      "\n"
     ]
    },
    {
     "name": "stdout",
     "output_type": "stream",
     "text": [
      "WARNING: 2024-06-27 11:52:43 | py.warnings | /Users/bmacdonald/.local/share/virtualenvs/agora-data-tools-CK0oUlHB/lib/python3.9/site-packages/great_expectations/expectations/expectation.py:1481: UserWarning: `result_format` configured at the Validator-level will not be persisted. Please add the configuration to your Checkpoint config or checkpoint_run() method instead.\n",
      "  warnings.warn(\n",
      "\n"
     ]
    },
    {
     "data": {
      "application/vnd.jupyter.widget-view+json": {
       "model_id": "e10105152afb4f989b0b4a317c7fe965",
       "version_major": 2,
       "version_minor": 0
      },
      "text/plain": [
       "Calculating Metrics:   0%|          | 0/1 [00:00<?, ?it/s]"
      ]
     },
     "metadata": {},
     "output_type": "display_data"
    },
    {
     "name": "stderr",
     "output_type": "stream",
     "text": [
      "[WARNING] /Users/bmacdonald/.local/share/virtualenvs/agora-data-tools-CK0oUlHB/lib/python3.9/site-packages/great_expectations/expectations/expectation.py:1481: UserWarning: `result_format` configured at the Validator-level will not be persisted. Please add the configuration to your Checkpoint config or checkpoint_run() method instead.\n",
      "  warnings.warn(\n",
      "\n"
     ]
    },
    {
     "name": "stdout",
     "output_type": "stream",
     "text": [
      "WARNING: 2024-06-27 11:52:43 | py.warnings | /Users/bmacdonald/.local/share/virtualenvs/agora-data-tools-CK0oUlHB/lib/python3.9/site-packages/great_expectations/expectations/expectation.py:1481: UserWarning: `result_format` configured at the Validator-level will not be persisted. Please add the configuration to your Checkpoint config or checkpoint_run() method instead.\n",
      "  warnings.warn(\n",
      "\n"
     ]
    },
    {
     "data": {
      "application/vnd.jupyter.widget-view+json": {
       "model_id": "8c9af03581ec45c0bb799a8131412b93",
       "version_major": 2,
       "version_minor": 0
      },
      "text/plain": [
       "Calculating Metrics:   0%|          | 0/6 [00:00<?, ?it/s]"
      ]
     },
     "metadata": {},
     "output_type": "display_data"
    },
    {
     "data": {
      "text/plain": [
       "{\n",
       "  \"success\": true,\n",
       "  \"result\": {\n",
       "    \"element_count\": 37452,\n",
       "    \"unexpected_count\": 0,\n",
       "    \"unexpected_percent\": 0.0,\n",
       "    \"partial_unexpected_list\": []\n",
       "  },\n",
       "  \"meta\": {},\n",
       "  \"exception_info\": {\n",
       "    \"raised_exception\": false,\n",
       "    \"exception_traceback\": null,\n",
       "    \"exception_message\": null\n",
       "  }\n",
       "}"
      ]
     },
     "execution_count": 79,
     "metadata": {},
     "output_type": "execute_result"
    }
   ],
   "source": [
    "# is_igap\n",
    "validator.expect_column_values_to_be_of_type(\"is_igap\", \"bool\")\n",
    "validator.expect_column_values_to_not_be_null(\"is_igap\")"
   ]
  },
  {
   "cell_type": "code",
   "execution_count": 80,
   "metadata": {},
   "outputs": [
    {
     "name": "stderr",
     "output_type": "stream",
     "text": [
      "[WARNING] /Users/bmacdonald/.local/share/virtualenvs/agora-data-tools-CK0oUlHB/lib/python3.9/site-packages/great_expectations/expectations/expectation.py:1481: UserWarning: `result_format` configured at the Validator-level will not be persisted. Please add the configuration to your Checkpoint config or checkpoint_run() method instead.\n",
      "  warnings.warn(\n",
      "\n"
     ]
    },
    {
     "name": "stdout",
     "output_type": "stream",
     "text": [
      "WARNING: 2024-06-27 11:52:43 | py.warnings | /Users/bmacdonald/.local/share/virtualenvs/agora-data-tools-CK0oUlHB/lib/python3.9/site-packages/great_expectations/expectations/expectation.py:1481: UserWarning: `result_format` configured at the Validator-level will not be persisted. Please add the configuration to your Checkpoint config or checkpoint_run() method instead.\n",
      "  warnings.warn(\n",
      "\n"
     ]
    },
    {
     "data": {
      "application/vnd.jupyter.widget-view+json": {
       "model_id": "b8786ab01ac749a9b4fbfd03e5c7e56d",
       "version_major": 2,
       "version_minor": 0
      },
      "text/plain": [
       "Calculating Metrics:   0%|          | 0/1 [00:00<?, ?it/s]"
      ]
     },
     "metadata": {},
     "output_type": "display_data"
    },
    {
     "name": "stderr",
     "output_type": "stream",
     "text": [
      "[WARNING] /Users/bmacdonald/.local/share/virtualenvs/agora-data-tools-CK0oUlHB/lib/python3.9/site-packages/great_expectations/expectations/expectation.py:1481: UserWarning: `result_format` configured at the Validator-level will not be persisted. Please add the configuration to your Checkpoint config or checkpoint_run() method instead.\n",
      "  warnings.warn(\n",
      "\n"
     ]
    },
    {
     "name": "stdout",
     "output_type": "stream",
     "text": [
      "WARNING: 2024-06-27 11:52:43 | py.warnings | /Users/bmacdonald/.local/share/virtualenvs/agora-data-tools-CK0oUlHB/lib/python3.9/site-packages/great_expectations/expectations/expectation.py:1481: UserWarning: `result_format` configured at the Validator-level will not be persisted. Please add the configuration to your Checkpoint config or checkpoint_run() method instead.\n",
      "  warnings.warn(\n",
      "\n"
     ]
    },
    {
     "data": {
      "application/vnd.jupyter.widget-view+json": {
       "model_id": "b7d16642f93543feb96c271f3c06876c",
       "version_major": 2,
       "version_minor": 0
      },
      "text/plain": [
       "Calculating Metrics:   0%|          | 0/6 [00:00<?, ?it/s]"
      ]
     },
     "metadata": {},
     "output_type": "display_data"
    },
    {
     "data": {
      "text/plain": [
       "{\n",
       "  \"success\": true,\n",
       "  \"result\": {\n",
       "    \"element_count\": 37452,\n",
       "    \"unexpected_count\": 0,\n",
       "    \"unexpected_percent\": 0.0,\n",
       "    \"partial_unexpected_list\": []\n",
       "  },\n",
       "  \"meta\": {},\n",
       "  \"exception_info\": {\n",
       "    \"raised_exception\": false,\n",
       "    \"exception_traceback\": null,\n",
       "    \"exception_message\": null\n",
       "  }\n",
       "}"
      ]
     },
     "execution_count": 80,
     "metadata": {},
     "output_type": "execute_result"
    }
   ],
   "source": [
    "# is_eqtl\n",
    "validator.expect_column_values_to_be_of_type(\"is_eqtl\", \"bool\")\n",
    "validator.expect_column_values_to_not_be_null(\"is_eqtl\")"
   ]
  },
  {
   "cell_type": "code",
   "execution_count": 81,
   "metadata": {},
   "outputs": [
    {
     "name": "stderr",
     "output_type": "stream",
     "text": [
      "[WARNING] /Users/bmacdonald/.local/share/virtualenvs/agora-data-tools-CK0oUlHB/lib/python3.9/site-packages/great_expectations/expectations/expectation.py:1481: UserWarning: `result_format` configured at the Validator-level will not be persisted. Please add the configuration to your Checkpoint config or checkpoint_run() method instead.\n",
      "  warnings.warn(\n",
      "\n"
     ]
    },
    {
     "name": "stdout",
     "output_type": "stream",
     "text": [
      "WARNING: 2024-06-27 11:52:43 | py.warnings | /Users/bmacdonald/.local/share/virtualenvs/agora-data-tools-CK0oUlHB/lib/python3.9/site-packages/great_expectations/expectations/expectation.py:1481: UserWarning: `result_format` configured at the Validator-level will not be persisted. Please add the configuration to your Checkpoint config or checkpoint_run() method instead.\n",
      "  warnings.warn(\n",
      "\n"
     ]
    },
    {
     "data": {
      "application/vnd.jupyter.widget-view+json": {
       "model_id": "486f528aad454fc894e33b04dd5526fa",
       "version_major": 2,
       "version_minor": 0
      },
      "text/plain": [
       "Calculating Metrics:   0%|          | 0/1 [00:00<?, ?it/s]"
      ]
     },
     "metadata": {},
     "output_type": "display_data"
    },
    {
     "name": "stderr",
     "output_type": "stream",
     "text": [
      "[WARNING] /Users/bmacdonald/.local/share/virtualenvs/agora-data-tools-CK0oUlHB/lib/python3.9/site-packages/great_expectations/expectations/expectation.py:1481: UserWarning: `result_format` configured at the Validator-level will not be persisted. Please add the configuration to your Checkpoint config or checkpoint_run() method instead.\n",
      "  warnings.warn(\n",
      "\n"
     ]
    },
    {
     "name": "stdout",
     "output_type": "stream",
     "text": [
      "WARNING: 2024-06-27 11:52:43 | py.warnings | /Users/bmacdonald/.local/share/virtualenvs/agora-data-tools-CK0oUlHB/lib/python3.9/site-packages/great_expectations/expectations/expectation.py:1481: UserWarning: `result_format` configured at the Validator-level will not be persisted. Please add the configuration to your Checkpoint config or checkpoint_run() method instead.\n",
      "  warnings.warn(\n",
      "\n"
     ]
    },
    {
     "data": {
      "application/vnd.jupyter.widget-view+json": {
       "model_id": "34d221ccd41541869030c59635d2372c",
       "version_major": 2,
       "version_minor": 0
      },
      "text/plain": [
       "Calculating Metrics:   0%|          | 0/6 [00:00<?, ?it/s]"
      ]
     },
     "metadata": {},
     "output_type": "display_data"
    },
    {
     "data": {
      "text/plain": [
       "{\n",
       "  \"success\": true,\n",
       "  \"result\": {\n",
       "    \"element_count\": 37452,\n",
       "    \"unexpected_count\": 0,\n",
       "    \"unexpected_percent\": 0.0,\n",
       "    \"partial_unexpected_list\": []\n",
       "  },\n",
       "  \"meta\": {},\n",
       "  \"exception_info\": {\n",
       "    \"raised_exception\": false,\n",
       "    \"exception_traceback\": null,\n",
       "    \"exception_message\": null\n",
       "  }\n",
       "}"
      ]
     },
     "execution_count": 81,
     "metadata": {},
     "output_type": "execute_result"
    }
   ],
   "source": [
    "# is_any_rna_changed_in_ad_brain\n",
    "validator.expect_column_values_to_be_of_type(\"is_any_rna_changed_in_ad_brain\", \"bool\")\n",
    "validator.expect_column_values_to_not_be_null(\"is_any_rna_changed_in_ad_brain\")"
   ]
  },
  {
   "cell_type": "code",
   "execution_count": 82,
   "metadata": {},
   "outputs": [
    {
     "name": "stderr",
     "output_type": "stream",
     "text": [
      "[WARNING] /Users/bmacdonald/.local/share/virtualenvs/agora-data-tools-CK0oUlHB/lib/python3.9/site-packages/great_expectations/expectations/expectation.py:1481: UserWarning: `result_format` configured at the Validator-level will not be persisted. Please add the configuration to your Checkpoint config or checkpoint_run() method instead.\n",
      "  warnings.warn(\n",
      "\n"
     ]
    },
    {
     "name": "stdout",
     "output_type": "stream",
     "text": [
      "WARNING: 2024-06-27 11:52:44 | py.warnings | /Users/bmacdonald/.local/share/virtualenvs/agora-data-tools-CK0oUlHB/lib/python3.9/site-packages/great_expectations/expectations/expectation.py:1481: UserWarning: `result_format` configured at the Validator-level will not be persisted. Please add the configuration to your Checkpoint config or checkpoint_run() method instead.\n",
      "  warnings.warn(\n",
      "\n"
     ]
    },
    {
     "data": {
      "application/vnd.jupyter.widget-view+json": {
       "model_id": "c3ee2ac09dc945658079ea3a1c464b13",
       "version_major": 2,
       "version_minor": 0
      },
      "text/plain": [
       "Calculating Metrics:   0%|          | 0/1 [00:00<?, ?it/s]"
      ]
     },
     "metadata": {},
     "output_type": "display_data"
    },
    {
     "name": "stderr",
     "output_type": "stream",
     "text": [
      "[WARNING] /Users/bmacdonald/.local/share/virtualenvs/agora-data-tools-CK0oUlHB/lib/python3.9/site-packages/great_expectations/expectations/expectation.py:1481: UserWarning: `result_format` configured at the Validator-level will not be persisted. Please add the configuration to your Checkpoint config or checkpoint_run() method instead.\n",
      "  warnings.warn(\n",
      "\n"
     ]
    },
    {
     "name": "stdout",
     "output_type": "stream",
     "text": [
      "WARNING: 2024-06-27 11:52:44 | py.warnings | /Users/bmacdonald/.local/share/virtualenvs/agora-data-tools-CK0oUlHB/lib/python3.9/site-packages/great_expectations/expectations/expectation.py:1481: UserWarning: `result_format` configured at the Validator-level will not be persisted. Please add the configuration to your Checkpoint config or checkpoint_run() method instead.\n",
      "  warnings.warn(\n",
      "\n"
     ]
    },
    {
     "data": {
      "application/vnd.jupyter.widget-view+json": {
       "model_id": "c3273835f40b44b19c547365067046a2",
       "version_major": 2,
       "version_minor": 0
      },
      "text/plain": [
       "Calculating Metrics:   0%|          | 0/6 [00:00<?, ?it/s]"
      ]
     },
     "metadata": {},
     "output_type": "display_data"
    },
    {
     "data": {
      "text/plain": [
       "{\n",
       "  \"success\": true,\n",
       "  \"result\": {\n",
       "    \"element_count\": 37452,\n",
       "    \"unexpected_count\": 0,\n",
       "    \"unexpected_percent\": 0.0,\n",
       "    \"partial_unexpected_list\": []\n",
       "  },\n",
       "  \"meta\": {},\n",
       "  \"exception_info\": {\n",
       "    \"raised_exception\": false,\n",
       "    \"exception_traceback\": null,\n",
       "    \"exception_message\": null\n",
       "  }\n",
       "}"
      ]
     },
     "execution_count": 82,
     "metadata": {},
     "output_type": "execute_result"
    }
   ],
   "source": [
    "# rna_brain_change_studied\n",
    "validator.expect_column_values_to_be_of_type(\"rna_brain_change_studied\", \"bool\")\n",
    "validator.expect_column_values_to_not_be_null(\"rna_brain_change_studied\")"
   ]
  },
  {
   "cell_type": "code",
   "execution_count": 83,
   "metadata": {},
   "outputs": [
    {
     "name": "stderr",
     "output_type": "stream",
     "text": [
      "[WARNING] /Users/bmacdonald/.local/share/virtualenvs/agora-data-tools-CK0oUlHB/lib/python3.9/site-packages/great_expectations/expectations/expectation.py:1481: UserWarning: `result_format` configured at the Validator-level will not be persisted. Please add the configuration to your Checkpoint config or checkpoint_run() method instead.\n",
      "  warnings.warn(\n",
      "\n"
     ]
    },
    {
     "name": "stdout",
     "output_type": "stream",
     "text": [
      "WARNING: 2024-06-27 11:52:44 | py.warnings | /Users/bmacdonald/.local/share/virtualenvs/agora-data-tools-CK0oUlHB/lib/python3.9/site-packages/great_expectations/expectations/expectation.py:1481: UserWarning: `result_format` configured at the Validator-level will not be persisted. Please add the configuration to your Checkpoint config or checkpoint_run() method instead.\n",
      "  warnings.warn(\n",
      "\n"
     ]
    },
    {
     "data": {
      "application/vnd.jupyter.widget-view+json": {
       "model_id": "9241ddca10bb47eba3b849d46506e4f6",
       "version_major": 2,
       "version_minor": 0
      },
      "text/plain": [
       "Calculating Metrics:   0%|          | 0/1 [00:00<?, ?it/s]"
      ]
     },
     "metadata": {},
     "output_type": "display_data"
    },
    {
     "name": "stderr",
     "output_type": "stream",
     "text": [
      "[WARNING] /Users/bmacdonald/.local/share/virtualenvs/agora-data-tools-CK0oUlHB/lib/python3.9/site-packages/great_expectations/expectations/expectation.py:1481: UserWarning: `result_format` configured at the Validator-level will not be persisted. Please add the configuration to your Checkpoint config or checkpoint_run() method instead.\n",
      "  warnings.warn(\n",
      "\n"
     ]
    },
    {
     "name": "stdout",
     "output_type": "stream",
     "text": [
      "WARNING: 2024-06-27 11:52:44 | py.warnings | /Users/bmacdonald/.local/share/virtualenvs/agora-data-tools-CK0oUlHB/lib/python3.9/site-packages/great_expectations/expectations/expectation.py:1481: UserWarning: `result_format` configured at the Validator-level will not be persisted. Please add the configuration to your Checkpoint config or checkpoint_run() method instead.\n",
      "  warnings.warn(\n",
      "\n"
     ]
    },
    {
     "data": {
      "application/vnd.jupyter.widget-view+json": {
       "model_id": "4149c6cf5a4a4c769f7d690f8650556c",
       "version_major": 2,
       "version_minor": 0
      },
      "text/plain": [
       "Calculating Metrics:   0%|          | 0/6 [00:00<?, ?it/s]"
      ]
     },
     "metadata": {},
     "output_type": "display_data"
    },
    {
     "data": {
      "text/plain": [
       "{\n",
       "  \"success\": true,\n",
       "  \"result\": {\n",
       "    \"element_count\": 37452,\n",
       "    \"unexpected_count\": 0,\n",
       "    \"unexpected_percent\": 0.0,\n",
       "    \"partial_unexpected_list\": []\n",
       "  },\n",
       "  \"meta\": {},\n",
       "  \"exception_info\": {\n",
       "    \"raised_exception\": false,\n",
       "    \"exception_traceback\": null,\n",
       "    \"exception_message\": null\n",
       "  }\n",
       "}"
      ]
     },
     "execution_count": 83,
     "metadata": {},
     "output_type": "execute_result"
    }
   ],
   "source": [
    "# is_any_protein_changed_in_ad_brain\n",
    "validator.expect_column_values_to_be_of_type(\"is_any_protein_changed_in_ad_brain\", \"bool\")\n",
    "validator.expect_column_values_to_not_be_null(\"is_any_protein_changed_in_ad_brain\")"
   ]
  },
  {
   "cell_type": "code",
   "execution_count": 84,
   "metadata": {},
   "outputs": [
    {
     "name": "stderr",
     "output_type": "stream",
     "text": [
      "[WARNING] /Users/bmacdonald/.local/share/virtualenvs/agora-data-tools-CK0oUlHB/lib/python3.9/site-packages/great_expectations/expectations/expectation.py:1481: UserWarning: `result_format` configured at the Validator-level will not be persisted. Please add the configuration to your Checkpoint config or checkpoint_run() method instead.\n",
      "  warnings.warn(\n",
      "\n"
     ]
    },
    {
     "name": "stdout",
     "output_type": "stream",
     "text": [
      "WARNING: 2024-06-27 11:52:44 | py.warnings | /Users/bmacdonald/.local/share/virtualenvs/agora-data-tools-CK0oUlHB/lib/python3.9/site-packages/great_expectations/expectations/expectation.py:1481: UserWarning: `result_format` configured at the Validator-level will not be persisted. Please add the configuration to your Checkpoint config or checkpoint_run() method instead.\n",
      "  warnings.warn(\n",
      "\n"
     ]
    },
    {
     "data": {
      "application/vnd.jupyter.widget-view+json": {
       "model_id": "b7b1eecc9e7e4f84aa6f1d73533afca6",
       "version_major": 2,
       "version_minor": 0
      },
      "text/plain": [
       "Calculating Metrics:   0%|          | 0/1 [00:00<?, ?it/s]"
      ]
     },
     "metadata": {},
     "output_type": "display_data"
    },
    {
     "name": "stderr",
     "output_type": "stream",
     "text": [
      "[WARNING] /Users/bmacdonald/.local/share/virtualenvs/agora-data-tools-CK0oUlHB/lib/python3.9/site-packages/great_expectations/expectations/expectation.py:1481: UserWarning: `result_format` configured at the Validator-level will not be persisted. Please add the configuration to your Checkpoint config or checkpoint_run() method instead.\n",
      "  warnings.warn(\n",
      "\n"
     ]
    },
    {
     "name": "stdout",
     "output_type": "stream",
     "text": [
      "WARNING: 2024-06-27 11:52:44 | py.warnings | /Users/bmacdonald/.local/share/virtualenvs/agora-data-tools-CK0oUlHB/lib/python3.9/site-packages/great_expectations/expectations/expectation.py:1481: UserWarning: `result_format` configured at the Validator-level will not be persisted. Please add the configuration to your Checkpoint config or checkpoint_run() method instead.\n",
      "  warnings.warn(\n",
      "\n"
     ]
    },
    {
     "data": {
      "application/vnd.jupyter.widget-view+json": {
       "model_id": "f33bbb4cd6f047a8bc3f0751fb82ec2d",
       "version_major": 2,
       "version_minor": 0
      },
      "text/plain": [
       "Calculating Metrics:   0%|          | 0/6 [00:00<?, ?it/s]"
      ]
     },
     "metadata": {},
     "output_type": "display_data"
    },
    {
     "data": {
      "text/plain": [
       "{\n",
       "  \"success\": true,\n",
       "  \"result\": {\n",
       "    \"element_count\": 37452,\n",
       "    \"unexpected_count\": 0,\n",
       "    \"unexpected_percent\": 0.0,\n",
       "    \"partial_unexpected_list\": []\n",
       "  },\n",
       "  \"meta\": {},\n",
       "  \"exception_info\": {\n",
       "    \"raised_exception\": false,\n",
       "    \"exception_traceback\": null,\n",
       "    \"exception_message\": null\n",
       "  }\n",
       "}"
      ]
     },
     "execution_count": 84,
     "metadata": {},
     "output_type": "execute_result"
    }
   ],
   "source": [
    "# protein_brain_change_studied\n",
    "validator.expect_column_values_to_be_of_type(\"protein_brain_change_studied\", \"bool\")\n",
    "validator.expect_column_values_to_not_be_null(\"protein_brain_change_studied\")"
   ]
  },
  {
   "cell_type": "code",
   "execution_count": 85,
   "metadata": {},
   "outputs": [
    {
     "name": "stderr",
     "output_type": "stream",
     "text": [
      "[WARNING] /Users/bmacdonald/.local/share/virtualenvs/agora-data-tools-CK0oUlHB/lib/python3.9/site-packages/great_expectations/expectations/expectation.py:1481: UserWarning: `result_format` configured at the Validator-level will not be persisted. Please add the configuration to your Checkpoint config or checkpoint_run() method instead.\n",
      "  warnings.warn(\n",
      "\n"
     ]
    },
    {
     "name": "stdout",
     "output_type": "stream",
     "text": [
      "WARNING: 2024-06-27 11:52:44 | py.warnings | /Users/bmacdonald/.local/share/virtualenvs/agora-data-tools-CK0oUlHB/lib/python3.9/site-packages/great_expectations/expectations/expectation.py:1481: UserWarning: `result_format` configured at the Validator-level will not be persisted. Please add the configuration to your Checkpoint config or checkpoint_run() method instead.\n",
      "  warnings.warn(\n",
      "\n"
     ]
    },
    {
     "data": {
      "application/vnd.jupyter.widget-view+json": {
       "model_id": "df47a2f1846740f89d17276e28fc5c2f",
       "version_major": 2,
       "version_minor": 0
      },
      "text/plain": [
       "Calculating Metrics:   0%|          | 0/8 [00:00<?, ?it/s]"
      ]
     },
     "metadata": {},
     "output_type": "display_data"
    },
    {
     "name": "stderr",
     "output_type": "stream",
     "text": [
      "[WARNING] /Users/bmacdonald/.local/share/virtualenvs/agora-data-tools-CK0oUlHB/lib/python3.9/site-packages/great_expectations/expectations/expectation.py:1481: UserWarning: `result_format` configured at the Validator-level will not be persisted. Please add the configuration to your Checkpoint config or checkpoint_run() method instead.\n",
      "  warnings.warn(\n",
      "\n"
     ]
    },
    {
     "name": "stdout",
     "output_type": "stream",
     "text": [
      "WARNING: 2024-06-27 11:52:44 | py.warnings | /Users/bmacdonald/.local/share/virtualenvs/agora-data-tools-CK0oUlHB/lib/python3.9/site-packages/great_expectations/expectations/expectation.py:1481: UserWarning: `result_format` configured at the Validator-level will not be persisted. Please add the configuration to your Checkpoint config or checkpoint_run() method instead.\n",
      "  warnings.warn(\n",
      "\n"
     ]
    },
    {
     "data": {
      "application/vnd.jupyter.widget-view+json": {
       "model_id": "71e52e44663846d4b8642ddc7ad2b010",
       "version_major": 2,
       "version_minor": 0
      },
      "text/plain": [
       "Calculating Metrics:   0%|          | 0/8 [00:00<?, ?it/s]"
      ]
     },
     "metadata": {},
     "output_type": "display_data"
    },
    {
     "data": {
      "text/plain": [
       "{\n",
       "  \"success\": true,\n",
       "  \"result\": {\n",
       "    \"element_count\": 37452,\n",
       "    \"unexpected_count\": 481,\n",
       "    \"unexpected_percent\": 1.284310584214461,\n",
       "    \"partial_unexpected_list\": [\n",
       "      \"[{\\\"source\\\": \\\"Community\\\", \\\"team\\\": \\\"Chang Lab\\\", \\\"rank\\\": \\\"PS1-7\\\", \\\"hgnc_symbol\\\": \\\"ICA1\\\", \\\"target_choice_justification\\\": \\\"ICA1 was identified as an important key driver by predictive network analysis in microglial cells of dorsolateral prefrontal cortex in ROSMAP cohort, and microglial cells of temporal cortex in MAYO cohort, and neuron cells of dorsolateral prefrontal cortex in ROSMAP cohort, and temporal cortex in MAYO cohort, and dorsolateral prefrontal cortex in ROSMAP cohort.\\\", \\\"predicted_therapeutic_direction\\\": \\\"Agonism predicted to reduce disease progression\\\", \\\"data_used_to_support_target_selection\\\": \\\"Predictive network analysis derived from RNAseq and GWAS genotypes\\\", \\\"data_synapseid\\\": \\\"syn18358612\\\", \\\"study\\\": \\\"Mayo, ROSMAP\\\", \\\"input_data\\\": \\\"Genetics, RNA\\\", \\\"validation_study_details\\\": null, \\\"initial_nomination\\\": 2019}]\",\n",
       "      \"[{\\\"source\\\": \\\"AMP-AD\\\", \\\"team\\\": \\\"Emory\\\", \\\"rank\\\": \\\"70\\\", \\\"hgnc_symbol\\\": \\\"PRKAR2B\\\", \\\"target_choice_justification\\\": \\\"PRKAR2B was identified as a potential driver protein based on protein coexpression analysis of the BLSA cohort(s). PRKAR2B has unchanged or inconsistent change in abundance in AD across the examined cohorts.\\\", \\\"predicted_therapeutic_direction\\\": \\\"Unknown. \\\", \\\"data_used_to_support_target_selection\\\": \\\"Discovery quantitative proteomics of FrCx \\\\r\\\\nWPCNA of multiple and consensus cohorts\\\\r\\\\nANOVA\\\", \\\"data_synapseid\\\": \\\"syn17008058\\\", \\\"study\\\": \\\"ACT, BLSA, Banner\\\", \\\"input_data\\\": \\\"Protein\\\", \\\"validation_study_details\\\": \\\"not prioritized for experimental validation\\\", \\\"initial_nomination\\\": 2018}]\",\n",
       "      \"[{\\\"source\\\": \\\"Community\\\", \\\"team\\\": \\\"Chang Lab\\\", \\\"rank\\\": \\\"PS2-19\\\", \\\"hgnc_symbol\\\": \\\"AP2B1\\\", \\\"target_choice_justification\\\": \\\"AP2B1 was identified as an important key driver by predictive network analysis in frontal cortex in RUSH cohort, and Brodmann area 10 in MSBB cohort.\\\", \\\"predicted_therapeutic_direction\\\": \\\"Agonism predicted to reduce disease progression\\\", \\\"data_used_to_support_target_selection\\\": \\\"Predictive network analysis derived from RNAseq, Proteomics and GWAS genotypes\\\", \\\"data_synapseid\\\": \\\"syn18358612\\\", \\\"study\\\": \\\"Rush, MSBB\\\", \\\"input_data\\\": \\\"Genetics, RNA, Protein\\\", \\\"validation_study_details\\\": null, \\\"initial_nomination\\\": 2019}, {\\\"source\\\": \\\"AMP-AD\\\", \\\"team\\\": \\\"Emory\\\", \\\"rank\\\": \\\"20\\\", \\\"hgnc_symbol\\\": \\\"AP2B1\\\", \\\"target_choice_justification\\\": \\\"AP2B1 was identified as a potential driver protein based on protein coexpression analysis of the BLSA cohort. The group of proteins coexpressed with AP2B1 is conserved across the datasets considered and is enriched in neuronal proteins. AP2B1 has decreased abundance in AD across the examined cohorts.\\\", \\\"predicted_therapeutic_direction\\\": \\\"Agonism predicted to reduce disease progression. Possibly activate (promote synaptic vesicle traffic); may be a passenger hub, as it represents a decreasing cell type (neurons).\\\", \\\"data_used_to_support_target_selection\\\": \\\"Discovery quantitative proteomics of FrCx \\\\r\\\\n WPCNA of multiple and consensus cohorts\\\\r\\\\n ANOVA\\\", \\\"data_synapseid\\\": \\\"syn17008058\\\", \\\"study\\\": \\\"ACT, BLSA, Banner\\\", \\\"input_data\\\": \\\"Protein\\\", \\\"validation_study_details\\\": \\\"not prioritized for experimental validation\\\", \\\"initial_nomination\\\": 2018}]\",\n",
       "      \"[{\\\"source\\\": \\\"AMP-AD\\\", \\\"team\\\": \\\"MSSM - Roussos Lab\\\", \\\"rank\\\": null, \\\"hgnc_symbol\\\": \\\"GAS7\\\", \\\"target_choice_justification\\\": \\\"Genes are upregulated in AD based on single cell analysis of microglia subtypes\\\", \\\"predicted_therapeutic_direction\\\": \\\"Antagonism predicted to reduce disease progression.\\\", \\\"data_used_to_support_target_selection\\\": \\\"scRNAseq and snRNAseq in microglia\\\", \\\"data_synapseid\\\": null, \\\"study\\\": \\\"HBI_scRNAseq\\\", \\\"input_data\\\": \\\"RNA\\\", \\\"validation_study_details\\\": \\\"Not prioritized for experimental validation \\\", \\\"initial_nomination\\\": 2023}]\",\n",
       "      \"[{\\\"source\\\": \\\"Community\\\", \\\"team\\\": \\\"Chang Lab\\\", \\\"rank\\\": \\\"PS3-24\\\", \\\"hgnc_symbol\\\": \\\"SYN1\\\", \\\"target_choice_justification\\\": \\\"SYN1 was identified as an important key driver by predictive network analysis in neuron cells of temporal cortex in MAYO cohort, and microglial cells of dorsolateral prefrontal cortex in ROSMAP cohort, and neuron cells of dorsolateral prefrontal cortex in ROSMAP cohort, and temporal cortex in MAYO cohort, and dorsolateral prefrontal cortex in ROSMAP cohort, and frontal and temporal cortex in KRONOSII cohort, and frontal cortex in RUSH cohort, and Brodmann area 10 in MSBB cohort.\\\", \\\"predicted_therapeutic_direction\\\": \\\"Agonism predicted to reduce disease progression\\\", \\\"data_used_to_support_target_selection\\\": \\\"Predictive network analysis derived from RNAseq, Proteomics and GWAS genotypes\\\", \\\"data_synapseid\\\": \\\"syn18358612\\\", \\\"study\\\": \\\"Mayo, ROSMAP, Kronos, Rush, MSBB\\\", \\\"input_data\\\": \\\"Genetics, RNA, Protein\\\", \\\"validation_study_details\\\": null, \\\"initial_nomination\\\": 2019}]\",\n",
       "      \"[{\\\"source\\\": \\\"AMP-AD\\\", \\\"team\\\": \\\"MSSM - Roussos Lab\\\", \\\"rank\\\": null, \\\"hgnc_symbol\\\": \\\"JARID2\\\", \\\"target_choice_justification\\\": \\\"Genes are upregulated in AD based on single cell analysis of microglia subtypes\\\", \\\"predicted_therapeutic_direction\\\": \\\"Antagonism predicted to reduce disease progression.\\\", \\\"data_used_to_support_target_selection\\\": \\\"scRNAseq and snRNAseq in microglia\\\", \\\"data_synapseid\\\": null, \\\"study\\\": \\\"HBI_scRNAseq\\\", \\\"input_data\\\": \\\"RNA\\\", \\\"validation_study_details\\\": \\\"Not prioritized for experimental validation \\\", \\\"initial_nomination\\\": 2023}]\",\n",
       "      \"[{\\\"source\\\": \\\"TREAT-AD\\\", \\\"team\\\": \\\"IUSM-Purdue\\\", \\\"rank\\\": null, \\\"hgnc_symbol\\\": \\\"BTK\\\", \\\"target_choice_justification\\\": \\\"By applying the algorithm and process developed in https://doi.org/10.1038/s41598-020-79740-x, we identified frequently co-expressed gene modules\\\", \\\"predicted_therapeutic_direction\\\": \\\"Antagonism predicted to reduce disease progression. Interact with inflammosome through NLRP3 activation; Frequently coexpressed in microglia core module from AD transcriptomic data\\\", \\\"data_used_to_support_target_selection\\\": \\\"AD and normal brain transcriptomic datasets\\\", \\\"data_synapseid\\\": null, \\\"study\\\": \\\"GSE5281, GSE48350, GSE33000, GSE44772, ROSMAP, MSBB, Mayo, ABA\\\", \\\"input_data\\\": \\\"RNA\\\", \\\"validation_study_details\\\": \\\"not prioritized for experimental validation\\\", \\\"initial_nomination\\\": 2022}]\",\n",
       "      \"[{\\\"source\\\": \\\"AMP-AD\\\", \\\"team\\\": \\\"Duke\\\", \\\"rank\\\": null, \\\"hgnc_symbol\\\": \\\"SYT7\\\", \\\"target_choice_justification\\\": \\\"Among the top-scoring genes according to a combination of composite scores from the AD atlas (genetics score and metabolomics score) and the TREAT-AD consortium (genetics score and RNA-seq/proteomics score). These scores are evolving, currently we put highest weight on metabolic evidence linking to AD in brain tissue and blood.\\\", \\\"predicted_therapeutic_direction\\\": \\\"Unknown.\\\", \\\"data_used_to_support_target_selection\\\": \\\"AMP-AD multi-omics data. Full listing available at www.adatlas.org.\\\", \\\"data_synapseid\\\": \\\"syn17008060\\\", \\\"study\\\": null, \\\"input_data\\\": \\\"Metabolomics, Genetics, RNA, Protein, Phenomics\\\", \\\"validation_study_details\\\": \\\"Not prioritized for experimental validation \\\", \\\"initial_nomination\\\": 2023}, {\\\"source\\\": \\\"AMP-AD\\\", \\\"team\\\": \\\"Duke\\\", \\\"rank\\\": \\\"32\\\", \\\"hgnc_symbol\\\": \\\"SYT7\\\", \\\"target_choice_justification\\\": \\\"In a large meta analysis with two large cohorts with the lipidomics platform (Huynh & Lim et al 2020. AIBL, n = 1112, ADNI, n = 800) we identified lipids associated with future onset of Alzheimer's disease. In tandem, we have performed a large genome wide association study on the human plasma lipidome (Cadby & Giles et al 2022). The targets highlighted here represent genes  associated with plasma lipids which are subsequently identified to associate with future onset of Alzheimer's disease\\\", \\\"predicted_therapeutic_direction\\\": \\\"Unknown.\\\", \\\"data_used_to_support_target_selection\\\": \\\"https://doi.org/10.1038/s41467-020-19473-7, https://doi.org/10.1038/s41467-022-30875-38\\\", \\\"data_synapseid\\\": \\\"syn17008060\\\", \\\"study\\\": \\\"AIBL, ADNI\\\", \\\"input_data\\\": \\\"Metabolomics, Genetics\\\", \\\"validation_study_details\\\": \\\"Not prioritized for experimental validation \\\", \\\"initial_nomination\\\": 2023}]\",\n",
       "      \"[{\\\"source\\\": \\\"AMP-AD\\\", \\\"team\\\": \\\"Mayo-UFL-ISB\\\", \\\"rank\\\": \\\"IT23\\\", \\\"hgnc_symbol\\\": \\\"TYROBP\\\", \\\"target_choice_justification\\\": \\\"Additional Immune\\\", \\\"predicted_therapeutic_direction\\\": \\\"Agonism predicted to reduce disease progression\\\", \\\"data_used_to_support_target_selection\\\": \\\"Immune module, Up in AD (TCX simple significant, comprehensive not significant)\\\", \\\"data_synapseid\\\": \\\"syn17008061\\\", \\\"study\\\": \\\"Mayo\\\", \\\"input_data\\\": \\\"RNA\\\", \\\"validation_study_details\\\": \\\"not prioritized for experimental validation\\\", \\\"initial_nomination\\\": 2018}, {\\\"source\\\": \\\"AMP-AD\\\", \\\"team\\\": \\\"MSSM - Zhang Lab\\\", \\\"rank\\\": \\\"1\\\", \\\"hgnc_symbol\\\": \\\"TYROBP\\\", \\\"target_choice_justification\\\": \\\"TYROBP was up-regulated in AD brains. It was identified as an important key driver in an immune response-related subnetwork yellow through coexpression and Bayesian network analysis and validated in mouse models.\\\", \\\"predicted_therapeutic_direction\\\": \\\"Antagonism predicted to reduce disease progression. Constitutive absence of TYROBP in a App/Ps1 mice recapitulates the predicted network characteristics by normalizing the transcriptome and prevents the induction of immune/pro_inflammatory response involved in the switch from homeostatic microglia to disease associated microglia (DAM). Importantly, deletion of TYROBP reversed the aberrant behavioral and electrophphysiological change, rescued aberrant synaptic plasticity in PPF and LTD experiments, and improved their learning and memory in Barnes maze test in the APP/PSEN1 model.\\\", \\\"data_used_to_support_target_selection\\\": \\\"Bayesian network analysis derived from microarray gene expression and SNP genotypes.\\\", \\\"data_synapseid\\\": \\\"syn17008057\\\", \\\"study\\\": \\\"HBTRC\\\", \\\"input_data\\\": \\\"Genetics, RNA\\\", \\\"validation_study_details\\\": \\\"validation studies ongoing\\\", \\\"initial_nomination\\\": 2018}, {\\\"source\\\": \\\"TREAT-AD\\\", \\\"team\\\": \\\"IUSM-Purdue\\\", \\\"rank\\\": null, \\\"hgnc_symbol\\\": \\\"TYROBP\\\", \\\"target_choice_justification\\\": \\\"By applying the algorithm and process developed in https://doi.org/10.1038/s41598-020-79740-x, we identified frequently co-expressed gene modules\\\", \\\"predicted_therapeutic_direction\\\": \\\"Antagonism predicted to reduce disease progression. GWAS identified AD risk gene; Frequently coexpressed in microglia core module from AD transcriptomic data; elevated in AD brain transcriptomic data; DAM gene\\\", \\\"data_used_to_support_target_selection\\\": \\\"AD and normal brain transcriptomic datasets\\\", \\\"data_synapseid\\\": null, \\\"study\\\": \\\"GSE5281, GSE48350, GSE33000, GSE44772, ROSMAP, MSBB, Mayo, ABA\\\", \\\"input_data\\\": \\\"Genetics, RNA\\\", \\\"validation_study_details\\\": \\\"validation studies planned\\\", \\\"initial_nomination\\\": 2022}]\",\n",
       "      \"[{\\\"source\\\": \\\"TREAT-AD\\\", \\\"team\\\": \\\"IUSM-Purdue\\\", \\\"rank\\\": null, \\\"hgnc_symbol\\\": \\\"WAS\\\", \\\"target_choice_justification\\\": \\\"By applying the algorithm and process developed in https://doi.org/10.1038/s41598-020-79740-x, we identified frequently co-expressed gene modules\\\", \\\"predicted_therapeutic_direction\\\": \\\"Unknown. Frequently coexpressed in microglia core module from AD transcriptomic data; decreased in AD brain scRNA-seq neuron data\\\", \\\"data_used_to_support_target_selection\\\": \\\"AD and normal brain transcriptomic datasets\\\", \\\"data_synapseid\\\": null, \\\"study\\\": \\\"GSE5281, GSE48350, GSE33000, GSE44772, ROSMAP, MSBB, Mayo, ABA\\\", \\\"input_data\\\": \\\"RNA\\\", \\\"validation_study_details\\\": \\\"not prioritized for experimental validation\\\", \\\"initial_nomination\\\": 2022}]\",\n",
       "      \"[{\\\"source\\\": \\\"AMP-AD\\\", \\\"team\\\": \\\"Mayo-UFL-ISB\\\", \\\"rank\\\": \\\"MO15\\\", \\\"hgnc_symbol\\\": \\\"IGF1\\\", \\\"target_choice_justification\\\": \\\"Myelin oligodendrocyte target\\\", \\\"predicted_therapeutic_direction\\\": \\\"Agonism predicted to reduce disease progression\\\", \\\"data_used_to_support_target_selection\\\": \\\"RNAseq down in AD known to be an oligodendrocyte growth factor\\\", \\\"data_synapseid\\\": \\\"syn17008061\\\", \\\"study\\\": \\\"Mayo\\\", \\\"input_data\\\": \\\"RNA\\\", \\\"validation_study_details\\\": \\\"not prioritized for experimental validation\\\", \\\"initial_nomination\\\": 2018}, {\\\"source\\\": \\\"AMP-AD\\\", \\\"team\\\": \\\"MSSM - Roussos Lab\\\", \\\"rank\\\": null, \\\"hgnc_symbol\\\": \\\"IGF1\\\", \\\"target_choice_justification\\\": \\\"Genes are downregulated in AD based on single cell analysis of microglia subtypes\\\", \\\"predicted_therapeutic_direction\\\": \\\"Agonism predicted to reduce disease progression.\\\", \\\"data_used_to_support_target_selection\\\": \\\"scRNAseq and snRNAseq in microglia\\\", \\\"data_synapseid\\\": null, \\\"study\\\": \\\"HBI_scRNAseq\\\", \\\"input_data\\\": \\\"RNA\\\", \\\"validation_study_details\\\": \\\"Not prioritized for experimental validation \\\", \\\"initial_nomination\\\": 2023}]\",\n",
       "      \"[{\\\"source\\\": \\\"AMP-AD\\\", \\\"team\\\": \\\"Duke\\\", \\\"rank\\\": \\\"23\\\", \\\"hgnc_symbol\\\": \\\"RUFY3\\\", \\\"target_choice_justification\\\": \\\"AD atlas shows associations with branched-chain amino acids valine and isoleucine that are associated with AD endophenotypes. This gene encodes a RPIP8, UNC-14, and NESCA domain-containing protein that is required for maintenance of neuronal polarity. Implicated in the formation of a single axon by developing neurons and may inhibit the formation of additional axons by inhibition of PI3K in minor neuronal processes. Has been associated with Parkinson's disease. \\\", \\\"predicted_therapeutic_direction\\\": \\\"Unknown.\\\", \\\"data_used_to_support_target_selection\\\": \\\"Metabolic pathway association analysis (by partial correlations and mining of metabolic knowledgebases), coupled with metabolite GWAS analyses, mining of eQTL, PPI, and protein databases, as well as manual textmining\\\", \\\"data_synapseid\\\": \\\"syn17008060\\\", \\\"study\\\": \\\"ADNI\\\", \\\"input_data\\\": \\\"Genetics, Metabolomics\\\", \\\"validation_study_details\\\": \\\"not prioritized for experimental validation\\\", \\\"initial_nomination\\\": 2018}, {\\\"source\\\": \\\"AMP-AD\\\", \\\"team\\\": \\\"Emory\\\", \\\"rank\\\": \\\"81\\\", \\\"hgnc_symbol\\\": \\\"RUFY3\\\", \\\"target_choice_justification\\\": \\\"RUFY3 was identified as a potential driver protein based on protein coexpression analysis of the BLSA cohort(s). RUFY3 has unchanged or inconsistent change in abundance in AD across the examined cohorts.\\\", \\\"predicted_therapeutic_direction\\\": \\\"Unknown. \\\", \\\"data_used_to_support_target_selection\\\": \\\"Discovery quantitative proteomics of FrCx \\\\r\\\\nWPCNA of multiple and consensus cohorts\\\\r\\\\nANOVA\\\", \\\"data_synapseid\\\": \\\"syn17008058\\\", \\\"study\\\": \\\"ACT, BLSA, Banner\\\", \\\"input_data\\\": \\\"Protein\\\", \\\"validation_study_details\\\": \\\"not prioritized for experimental validation\\\", \\\"initial_nomination\\\": 2018}, {\\\"source\\\": \\\"AMP-AD\\\", \\\"team\\\": \\\"MSSM - Roussos Lab\\\", \\\"rank\\\": null, \\\"hgnc_symbol\\\": \\\"RUFY3\\\", \\\"target_choice_justification\\\": \\\"Genes are upregulated in AD based on single cell analysis of microglia subtypes\\\", \\\"predicted_therapeutic_direction\\\": \\\"Antagonism predicted to reduce disease progression.\\\", \\\"data_used_to_support_target_selection\\\": \\\"scRNAseq and snRNAseq in microglia\\\", \\\"data_synapseid\\\": null, \\\"study\\\": \\\"HBI_scRNAseq\\\", \\\"input_data\\\": \\\"RNA\\\", \\\"validation_study_details\\\": \\\"Not prioritized for experimental validation \\\", \\\"initial_nomination\\\": 2023}]\",\n",
       "      \"[{\\\"source\\\": \\\"TREAT-AD\\\", \\\"team\\\": \\\"IUSM-Purdue\\\", \\\"rank\\\": null, \\\"hgnc_symbol\\\": \\\"CD74\\\", \\\"target_choice_justification\\\": \\\"By applying the algorithm and process developed in https://doi.org/10.1038/s41598-020-79740-x, we identified frequently co-expressed gene modules\\\", \\\"predicted_therapeutic_direction\\\": \\\"Antagonism predicted to reduce disease progression. Found in DAM subspecies, elevated in AD brain; Frequently coexpressed in microglia core module from AD transcriptomic data transcriptomic data, frequently coexpressee in microglia core module from AD\\\", \\\"data_used_to_support_target_selection\\\": \\\"AD and normal brain transcriptomic datasets\\\", \\\"data_synapseid\\\": null, \\\"study\\\": \\\"GSE5281, GSE48350, GSE33000, GSE44772, ROSMAP, MSBB, Mayo, ABA\\\", \\\"input_data\\\": \\\"RNA\\\", \\\"validation_study_details\\\": \\\"not prioritized for experimental validation\\\", \\\"initial_nomination\\\": 2022}]\",\n",
       "      \"[{\\\"source\\\": \\\"AMP-AD\\\", \\\"team\\\": \\\"Duke\\\", \\\"rank\\\": \\\"24\\\", \\\"hgnc_symbol\\\": \\\"NRXN3\\\", \\\"target_choice_justification\\\": \\\"AD atlas shows associations with PC aa C32:1 and other PCs that are associated with AD endophenotypes, as well as genetic associations with cognition and CSF pTau levels. This gene shows biased expression in brain and encodes a member of a family of proteins that function in the nervous system as receptors and cell adhesion molecules. Immunocytochemical and electrophysiological studies have shown that specific binding, across the synaptic cleft, of the ectodomains of presynaptic NRXNs and postsynaptic Neuroligins (NLGNs) have the potential to bidirectionally coordinate and trigger synapse formation. Moreover, in vivo studies as well as genome-wide association studies pointed out implication of NRXNs in the pathogenesis of cognitive disorders including autism spectrum disorders (ASDs) and different types of addictions including opioid and alcohol dependences, suggesting an important role in synaptic function. Maybe linked to AD-related genetic variation in PS1.\\\", \\\"predicted_therapeutic_direction\\\": \\\"Unknown.\\\", \\\"data_used_to_support_target_selection\\\": \\\"Metabolic pathway association analysis (by partial correlations and mining of metabolic knowledgebases), coupled with metabolite GWAS analyses, mining of eQTL, PPI, and protein databases, as well as manual textmining\\\", \\\"data_synapseid\\\": \\\"syn17008060\\\", \\\"study\\\": \\\"ADNI\\\", \\\"input_data\\\": \\\"Genetics, Metabolomics\\\", \\\"validation_study_details\\\": \\\"not prioritized for experimental validation\\\", \\\"initial_nomination\\\": 2018}, {\\\"source\\\": \\\"AMP-AD\\\", \\\"team\\\": \\\"ASU\\\", \\\"rank\\\": \\\"56\\\", \\\"hgnc_symbol\\\": \\\"NRXN3\\\", \\\"target_choice_justification\\\": \\\"Gene identified in HSV-1 infection study whereby HSV-1 induced intracellular Abeta accumulation and phosphorylated Tau, and transcriptomic changes that are enriched for a permissive set of AD GWAS associated genes. Genes included in this nomination are within that leading edge of AD GWAS genes that are significantly perturbed by HSV1 within this experiment. Rank is based on ordered absolute logFC following HSV-1 infection\\\", \\\"predicted_therapeutic_direction\\\": \\\"Unknown.\\\", \\\"data_used_to_support_target_selection\\\": \\\"RNA-seq on HSV1 infected cerebral organoids\\\", \\\"data_synapseid\\\": null, \\\"study\\\": \\\"VirusResilience\\\", \\\"input_data\\\": \\\"RNA\\\", \\\"validation_study_details\\\": \\\"Validation studies ongoing \\\", \\\"initial_nomination\\\": 2023}]\",\n",
       "      \"[{\\\"source\\\": \\\"AMP-AD\\\", \\\"team\\\": \\\"Emory\\\", \\\"rank\\\": \\\"29\\\", \\\"hgnc_symbol\\\": \\\"NDUFS1\\\", \\\"target_choice_justification\\\": \\\"NDUFS1 was identified as a potential driver protein based on protein coexpression analysis of the BLSA, Banner cohort(s). NDUFS1 has decreased abundance in AD across the examined cohorts.\\\", \\\"predicted_therapeutic_direction\\\": \\\"Agonism predicted to reduce disease progression. \\\", \\\"data_used_to_support_target_selection\\\": \\\"Discovery quantitative proteomics of FrCx \\\\r\\\\nWPCNA of multiple and consensus cohorts\\\\r\\\\nANOVA\\\", \\\"data_synapseid\\\": \\\"syn17008058\\\", \\\"study\\\": \\\"ACT, BLSA, Banner\\\", \\\"input_data\\\": \\\"Protein\\\", \\\"validation_study_details\\\": \\\"not prioritized for experimental validation\\\", \\\"initial_nomination\\\": 2018}, {\\\"source\\\": \\\"AMP-AD\\\", \\\"team\\\": \\\"MSSM - Zhang Lab\\\", \\\"rank\\\": \\\"20\\\", \\\"hgnc_symbol\\\": \\\"NDUFS1\\\", \\\"target_choice_justification\\\": \\\"NDUFS1 is predicted as a key driver protein (KDP) in the Bayesian network analysis, and ranked top 20 in the aggregated p values among all the KDPs via the ensemble rank algorithm of ACAT.\\\", \\\"predicted_therapeutic_direction\\\": \\\"Unknown. NDUFS1 is insignificantly regulated in its protein expression in AD vs NL (normal control) in a range of clinical traits inclusing Braak score, CDR, CERAD and Plaque_mean in the brain PHG region. It is predicted to be a key driver protein (KDP) in the Bayesian proteomics network analysis, which has an ensemble ranking score (aggragated p value) of 3.3e-13 and a rank order of number 20 among the 580 KDPs.\\\", \\\"data_used_to_support_target_selection\\\": \\\"Bayesian proteomics network analysis and differentially expressed protein analysis.\\\", \\\"data_synapseid\\\": \\\"syn17008057\\\", \\\"study\\\": \\\"MSBB\\\", \\\"input_data\\\": \\\"Protein\\\", \\\"validation_study_details\\\": \\\"Not prioritized for experimental validation\\\", \\\"initial_nomination\\\": 2023}]\",\n",
       "      \"[{\\\"source\\\": \\\"AMP-AD\\\", \\\"team\\\": \\\"Emory\\\", \\\"rank\\\": \\\"2\\\", \\\"hgnc_symbol\\\": \\\"CD44\\\", \\\"target_choice_justification\\\": \\\"CD44 was identified as a potential driver protein based on protein coexpression analysis. The group of proteins coexpressed with CD44 is conserved across the 3 datasets considered, is enriched for inflammatory processes, and for protein products of genes near loci previously associated with AD risk. CD44 has increased abundance in AD across all 3 cohorts examined, and progressively increases in asymptomatic (prodromal) AD to symptomatic AD, and also correlates with both hallmark AD pathology scores (CERAD for amyloid burden; and Braak for Tau extent of spread). Low brain mRNA expression in non-AD brain suggests this protein in brain total homogenates may be derived from infiltrating perpipheral blood cells.\\\", \\\"predicted_therapeutic_direction\\\": \\\"Antagonism predicted to reduce disease progression. ECM-intracellular crosstalk; highly expressed in disease-associated microglia, or infiltrating immune cells crossing the BBB. CD44 inhibition would be predicted to reduce CNS inflammation via reduced peripheral monocyte infiltration.\\\", \\\"data_used_to_support_target_selection\\\": \\\"Discovery quantitative proteomics of FrCx \\\\r\\\\n WPCNA of multiple and consensus cohorts\\\\r\\\\n ANOVA\\\", \\\"data_synapseid\\\": \\\"syn17008058\\\", \\\"study\\\": \\\"ACT, BLSA, Banner\\\", \\\"input_data\\\": \\\"Protein\\\", \\\"validation_study_details\\\": \\\"validation studies ongoing\\\", \\\"initial_nomination\\\": 2018}, {\\\"source\\\": \\\"TREAT-AD\\\", \\\"team\\\": \\\"Emory-Sage-SGC\\\", \\\"rank\\\": null, \\\"hgnc_symbol\\\": \\\"CD44\\\", \\\"target_choice_justification\\\": \\\"This target is found within a LFQ proteomics network module that was highly correlated with cognition. This module (Module 4) contains several novel AD targets, including MSN and CD44. \\\", \\\"predicted_therapeutic_direction\\\": \\\"Antagonism predicted to reduce disease progression. Inhibiting CD44 ectodomain binding to hyaluronic acid may reduce CD44 signaling and inflammation in the brain. \\\", \\\"data_used_to_support_target_selection\\\": \\\"LFQ proteomics network. \\\", \\\"data_synapseid\\\": null, \\\"study\\\": \\\"ACT, BLSA, Banner\\\", \\\"input_data\\\": \\\"Protein\\\", \\\"validation_study_details\\\": null, \\\"initial_nomination\\\": 2022}]\",\n",
       "      \"[{\\\"source\\\": \\\"AMP-AD\\\", \\\"team\\\": \\\"Duke\\\", \\\"rank\\\": \\\"25\\\", \\\"hgnc_symbol\\\": \\\"RABEP1\\\", \\\"target_choice_justification\\\": \\\"AD atlas shows overlapping associations of AD (genome-wide significant) and PCs that are associated with AD endophenotypes, as well as associations with CSF p-tau levels. Population-based studies also show associations with lipids including PCs. Rab effector protein acting as linker between gamma-adaptin, RAB4A and RAB5A. Involved in endocytic membrane fusion and membrane trafficking of recycling endosomes. Involved in KCNH1 channels trafficking to and from the cell membrane. \\\", \\\"predicted_therapeutic_direction\\\": \\\"Unknown.\\\", \\\"data_used_to_support_target_selection\\\": \\\"Metabolic pathway association analysis (by partial correlations and mining of metabolic knowledgebases), coupled with metabolite GWAS analyses, mining of eQTL, PPI, and protein databases, as well as manual textmining\\\", \\\"data_synapseid\\\": \\\"syn17008060\\\", \\\"study\\\": \\\"ADNI\\\", \\\"input_data\\\": \\\"Genetics, Metabolomics\\\", \\\"validation_study_details\\\": \\\"not prioritized for experimental validation\\\", \\\"initial_nomination\\\": 2018}, {\\\"source\\\": \\\"TREAT-AD\\\", \\\"team\\\": \\\"Emory-Sage-SGC\\\", \\\"rank\\\": null, \\\"hgnc_symbol\\\": \\\"RABEP1\\\", \\\"target_choice_justification\\\": \\\"This target was identified through a protein quantitative trait locus analysis.\\\", \\\"predicted_therapeutic_direction\\\": \\\"Unknown. \\\", \\\"data_used_to_support_target_selection\\\": \\\"Protein quantititave trait locus analysis.\\\", \\\"data_synapseid\\\": null, \\\"study\\\": \\\"Banner, ROSMAP\\\", \\\"input_data\\\": \\\"Protein, Genetics\\\", \\\"validation_study_details\\\": null, \\\"initial_nomination\\\": 2022}, {\\\"source\\\": \\\"AMP-AD\\\", \\\"team\\\": \\\"MSSM - Roussos Lab\\\", \\\"rank\\\": null, \\\"hgnc_symbol\\\": \\\"RABEP1\\\", \\\"target_choice_justification\\\": \\\"QTL within those genes colocalize with AD\\\", \\\"predicted_therapeutic_direction\\\": \\\"Unknown.\\\", \\\"data_used_to_support_target_selection\\\": \\\"RNAseq in microglia\\\", \\\"data_synapseid\\\": null, \\\"study\\\": \\\"FreshMicro\\\", \\\"input_data\\\": \\\"Genetics, RNA\\\", \\\"validation_study_details\\\": \\\"Validation studies ongoing \\\", \\\"initial_nomination\\\": 2023}]\",\n",
       "      \"[{\\\"source\\\": \\\"AMP-AD\\\", \\\"team\\\": \\\"Emory\\\", \\\"rank\\\": \\\"87\\\", \\\"hgnc_symbol\\\": \\\"ATP6V0A1\\\", \\\"target_choice_justification\\\": \\\"ATP6V0A1 was identified as a potential driver protein based on protein coexpression analysis of the BLSA, Banner cohort(s). ATP6V0A1 has decreased abundance in AD across the examined cohorts.\\\", \\\"predicted_therapeutic_direction\\\": \\\"Agonism predicted to reduce disease progression. \\\", \\\"data_used_to_support_target_selection\\\": \\\"Discovery quantitative proteomics of FrCx \\\\r\\\\nWPCNA of multiple and consensus cohorts\\\\r\\\\nANOVA\\\", \\\"data_synapseid\\\": \\\"syn17008058\\\", \\\"study\\\": \\\"ACT, BLSA, Banner\\\", \\\"input_data\\\": \\\"Protein\\\", \\\"validation_study_details\\\": \\\"not prioritized for experimental validation\\\", \\\"initial_nomination\\\": 2018}]\",\n",
       "      \"[{\\\"source\\\": \\\"AMP-AD\\\", \\\"team\\\": \\\"Emory\\\", \\\"rank\\\": \\\"86\\\", \\\"hgnc_symbol\\\": \\\"VCAN\\\", \\\"target_choice_justification\\\": \\\"VCAN was identified as a potential driver protein based on protein coexpression analysis of the Banner cohort(s). VCAN has increased abundance in AD across the examined cohorts.\\\", \\\"predicted_therapeutic_direction\\\": \\\"Antagonism predicted to reduce disease progression. \\\", \\\"data_used_to_support_target_selection\\\": \\\"Discovery quantitative proteomics of FrCx \\\\r\\\\nWPCNA of multiple and consensus cohorts\\\\r\\\\nANOVA\\\", \\\"data_synapseid\\\": \\\"syn17008058\\\", \\\"study\\\": \\\"ACT, BLSA, Banner\\\", \\\"input_data\\\": \\\"Protein\\\", \\\"validation_study_details\\\": \\\"not prioritized for experimental validation\\\", \\\"initial_nomination\\\": 2018}]\",\n",
       "      \"[{\\\"source\\\": \\\"AMP-AD\\\", \\\"team\\\": \\\"ASU\\\", \\\"rank\\\": \\\"8\\\", \\\"hgnc_symbol\\\": \\\"C2orf83\\\", \\\"target_choice_justification\\\": \\\"Gene identified in HSV-1 infection study whereby HSV-1 induced intracellular Abeta accumulation and phosphorylated Tau, and transcriptomic changes that are enriched for a permissive set of AD GWAS associated genes. Genes included in this nomination are within that leading edge of AD GWAS genes that are significantly perturbed by HSV1 within this experiment. Rank is based on ordered absolute logFC following HSV-1 infection\\\", \\\"predicted_therapeutic_direction\\\": \\\"Unknown.\\\", \\\"data_used_to_support_target_selection\\\": \\\"RNA-seq on HSV1 infected cerebral organoids\\\", \\\"data_synapseid\\\": null, \\\"study\\\": \\\"VirusResilience\\\", \\\"input_data\\\": \\\"RNA\\\", \\\"validation_study_details\\\": \\\"Validation studies ongoing \\\", \\\"initial_nomination\\\": 2023}]\"\n",
       "    ],\n",
       "    \"missing_count\": 0,\n",
       "    \"missing_percent\": 0.0,\n",
       "    \"unexpected_percent_total\": 1.284310584214461,\n",
       "    \"unexpected_percent_nonmissing\": 1.284310584214461\n",
       "  },\n",
       "  \"meta\": {},\n",
       "  \"exception_info\": {\n",
       "    \"raised_exception\": false,\n",
       "    \"exception_traceback\": null,\n",
       "    \"exception_message\": null\n",
       "  }\n",
       "}"
      ]
     },
     "execution_count": 85,
     "metadata": {},
     "output_type": "execute_result"
    }
   ],
   "source": [
    "# target_nominations\n",
    "validator.expect_column_values_to_be_of_type(\"target_nominations\", \"str\")\n",
    "with open(\"../src/agoradatatools/great_expectations/gx/json_schemas/gene_info/target_nominations.json\", \"r\") as file:\n",
    "    target_nominations_schema = json.load(file)\n",
    "validator.expect_column_values_to_match_json_schema(\"target_nominations\", json_schema=target_nominations_schema, mostly=0.98)"
   ]
  },
  {
   "cell_type": "code",
   "execution_count": 86,
   "metadata": {},
   "outputs": [
    {
     "name": "stderr",
     "output_type": "stream",
     "text": [
      "[WARNING] /Users/bmacdonald/.local/share/virtualenvs/agora-data-tools-CK0oUlHB/lib/python3.9/site-packages/great_expectations/expectations/expectation.py:1481: UserWarning: `result_format` configured at the Validator-level will not be persisted. Please add the configuration to your Checkpoint config or checkpoint_run() method instead.\n",
      "  warnings.warn(\n",
      "\n"
     ]
    },
    {
     "name": "stdout",
     "output_type": "stream",
     "text": [
      "WARNING: 2024-06-27 11:54:35 | py.warnings | /Users/bmacdonald/.local/share/virtualenvs/agora-data-tools-CK0oUlHB/lib/python3.9/site-packages/great_expectations/expectations/expectation.py:1481: UserWarning: `result_format` configured at the Validator-level will not be persisted. Please add the configuration to your Checkpoint config or checkpoint_run() method instead.\n",
      "  warnings.warn(\n",
      "\n"
     ]
    },
    {
     "data": {
      "application/vnd.jupyter.widget-view+json": {
       "model_id": "6356c665382f486f817d69b554af0802",
       "version_major": 2,
       "version_minor": 0
      },
      "text/plain": [
       "Calculating Metrics:   0%|          | 0/8 [00:00<?, ?it/s]"
      ]
     },
     "metadata": {},
     "output_type": "display_data"
    },
    {
     "name": "stderr",
     "output_type": "stream",
     "text": [
      "[WARNING] /Users/bmacdonald/.local/share/virtualenvs/agora-data-tools-CK0oUlHB/lib/python3.9/site-packages/great_expectations/expectations/expectation.py:1481: UserWarning: `result_format` configured at the Validator-level will not be persisted. Please add the configuration to your Checkpoint config or checkpoint_run() method instead.\n",
      "  warnings.warn(\n",
      "\n"
     ]
    },
    {
     "name": "stdout",
     "output_type": "stream",
     "text": [
      "WARNING: 2024-06-27 11:54:35 | py.warnings | /Users/bmacdonald/.local/share/virtualenvs/agora-data-tools-CK0oUlHB/lib/python3.9/site-packages/great_expectations/expectations/expectation.py:1481: UserWarning: `result_format` configured at the Validator-level will not be persisted. Please add the configuration to your Checkpoint config or checkpoint_run() method instead.\n",
      "  warnings.warn(\n",
      "\n"
     ]
    },
    {
     "data": {
      "application/vnd.jupyter.widget-view+json": {
       "model_id": "1a41b5212f3a4122af224fc0616dd363",
       "version_major": 2,
       "version_minor": 0
      },
      "text/plain": [
       "Calculating Metrics:   0%|          | 0/8 [00:00<?, ?it/s]"
      ]
     },
     "metadata": {},
     "output_type": "display_data"
    },
    {
     "data": {
      "text/plain": [
       "{\n",
       "  \"success\": true,\n",
       "  \"result\": {\n",
       "    \"element_count\": 37452,\n",
       "    \"unexpected_count\": 0,\n",
       "    \"unexpected_percent\": 0.0,\n",
       "    \"partial_unexpected_list\": [],\n",
       "    \"missing_count\": 0,\n",
       "    \"missing_percent\": 0.0,\n",
       "    \"unexpected_percent_total\": 0.0,\n",
       "    \"unexpected_percent_nonmissing\": 0.0\n",
       "  },\n",
       "  \"meta\": {},\n",
       "  \"exception_info\": {\n",
       "    \"raised_exception\": false,\n",
       "    \"exception_traceback\": null,\n",
       "    \"exception_message\": null\n",
       "  }\n",
       "}"
      ]
     },
     "execution_count": 86,
     "metadata": {},
     "output_type": "execute_result"
    }
   ],
   "source": [
    "# median_expression\n",
    "validator.expect_column_values_to_be_of_type(\"median_expression\", \"str\")\n",
    "with open(\"../src/agoradatatools/great_expectations/gx/json_schemas/gene_info/median_expression.json\", \"r\") as file:\n",
    "    median_expression_schema = json.load(file)\n",
    "validator.expect_column_values_to_match_json_schema(\"median_expression\", json_schema=median_expression_schema)"
   ]
  },
  {
   "cell_type": "code",
   "execution_count": 87,
   "metadata": {},
   "outputs": [
    {
     "name": "stderr",
     "output_type": "stream",
     "text": [
      "[WARNING] /Users/bmacdonald/.local/share/virtualenvs/agora-data-tools-CK0oUlHB/lib/python3.9/site-packages/great_expectations/expectations/expectation.py:1481: UserWarning: `result_format` configured at the Validator-level will not be persisted. Please add the configuration to your Checkpoint config or checkpoint_run() method instead.\n",
      "  warnings.warn(\n",
      "\n"
     ]
    },
    {
     "name": "stdout",
     "output_type": "stream",
     "text": [
      "WARNING: 2024-06-27 11:55:45 | py.warnings | /Users/bmacdonald/.local/share/virtualenvs/agora-data-tools-CK0oUlHB/lib/python3.9/site-packages/great_expectations/expectations/expectation.py:1481: UserWarning: `result_format` configured at the Validator-level will not be persisted. Please add the configuration to your Checkpoint config or checkpoint_run() method instead.\n",
      "  warnings.warn(\n",
      "\n"
     ]
    },
    {
     "data": {
      "application/vnd.jupyter.widget-view+json": {
       "model_id": "342ae3a8f9b84ea0a39cbffe7117279f",
       "version_major": 2,
       "version_minor": 0
      },
      "text/plain": [
       "Calculating Metrics:   0%|          | 0/8 [00:00<?, ?it/s]"
      ]
     },
     "metadata": {},
     "output_type": "display_data"
    },
    {
     "name": "stderr",
     "output_type": "stream",
     "text": [
      "[WARNING] /Users/bmacdonald/.local/share/virtualenvs/agora-data-tools-CK0oUlHB/lib/python3.9/site-packages/great_expectations/expectations/expectation.py:1481: UserWarning: `result_format` configured at the Validator-level will not be persisted. Please add the configuration to your Checkpoint config or checkpoint_run() method instead.\n",
      "  warnings.warn(\n",
      "\n"
     ]
    },
    {
     "name": "stdout",
     "output_type": "stream",
     "text": [
      "WARNING: 2024-06-27 11:55:45 | py.warnings | /Users/bmacdonald/.local/share/virtualenvs/agora-data-tools-CK0oUlHB/lib/python3.9/site-packages/great_expectations/expectations/expectation.py:1481: UserWarning: `result_format` configured at the Validator-level will not be persisted. Please add the configuration to your Checkpoint config or checkpoint_run() method instead.\n",
      "  warnings.warn(\n",
      "\n"
     ]
    },
    {
     "data": {
      "application/vnd.jupyter.widget-view+json": {
       "model_id": "95b8ae2ed580493ba758684f8e80aaed",
       "version_major": 2,
       "version_minor": 0
      },
      "text/plain": [
       "Calculating Metrics:   0%|          | 0/8 [00:00<?, ?it/s]"
      ]
     },
     "metadata": {},
     "output_type": "display_data"
    },
    {
     "data": {
      "text/plain": [
       "{\n",
       "  \"success\": true,\n",
       "  \"result\": {\n",
       "    \"element_count\": 37452,\n",
       "    \"unexpected_count\": 0,\n",
       "    \"unexpected_percent\": 0.0,\n",
       "    \"partial_unexpected_list\": [],\n",
       "    \"missing_count\": 0,\n",
       "    \"missing_percent\": 0.0,\n",
       "    \"unexpected_percent_total\": 0.0,\n",
       "    \"unexpected_percent_nonmissing\": 0.0\n",
       "  },\n",
       "  \"meta\": {},\n",
       "  \"exception_info\": {\n",
       "    \"raised_exception\": false,\n",
       "    \"exception_traceback\": null,\n",
       "    \"exception_message\": null\n",
       "  }\n",
       "}"
      ]
     },
     "execution_count": 87,
     "metadata": {},
     "output_type": "execute_result"
    }
   ],
   "source": [
    "# druggability\n",
    "validator.expect_column_values_to_be_of_type(\"druggability\", \"str\")\n",
    "with open(\"../src/agoradatatools/great_expectations/gx/json_schemas/gene_info/druggability.json\", \"r\") as file:\n",
    "    druggability_schema = json.load(file)\n",
    "validator.expect_column_values_to_match_json_schema(\"druggability\", json_schema=druggability_schema)"
   ]
  },
  {
   "cell_type": "code",
   "execution_count": 88,
   "metadata": {},
   "outputs": [
    {
     "name": "stderr",
     "output_type": "stream",
     "text": [
      "[WARNING] /Users/bmacdonald/.local/share/virtualenvs/agora-data-tools-CK0oUlHB/lib/python3.9/site-packages/great_expectations/expectations/expectation.py:1481: UserWarning: `result_format` configured at the Validator-level will not be persisted. Please add the configuration to your Checkpoint config or checkpoint_run() method instead.\n",
      "  warnings.warn(\n",
      "\n"
     ]
    },
    {
     "name": "stdout",
     "output_type": "stream",
     "text": [
      "WARNING: 2024-06-27 11:56:52 | py.warnings | /Users/bmacdonald/.local/share/virtualenvs/agora-data-tools-CK0oUlHB/lib/python3.9/site-packages/great_expectations/expectations/expectation.py:1481: UserWarning: `result_format` configured at the Validator-level will not be persisted. Please add the configuration to your Checkpoint config or checkpoint_run() method instead.\n",
      "  warnings.warn(\n",
      "\n"
     ]
    },
    {
     "data": {
      "application/vnd.jupyter.widget-view+json": {
       "model_id": "f8f8001665fc490092ada209a9690095",
       "version_major": 2,
       "version_minor": 0
      },
      "text/plain": [
       "Calculating Metrics:   0%|          | 0/1 [00:00<?, ?it/s]"
      ]
     },
     "metadata": {},
     "output_type": "display_data"
    },
    {
     "name": "stderr",
     "output_type": "stream",
     "text": [
      "[WARNING] /Users/bmacdonald/.local/share/virtualenvs/agora-data-tools-CK0oUlHB/lib/python3.9/site-packages/great_expectations/expectations/expectation.py:1481: UserWarning: `result_format` configured at the Validator-level will not be persisted. Please add the configuration to your Checkpoint config or checkpoint_run() method instead.\n",
      "  warnings.warn(\n",
      "\n"
     ]
    },
    {
     "name": "stdout",
     "output_type": "stream",
     "text": [
      "WARNING: 2024-06-27 11:56:52 | py.warnings | /Users/bmacdonald/.local/share/virtualenvs/agora-data-tools-CK0oUlHB/lib/python3.9/site-packages/great_expectations/expectations/expectation.py:1481: UserWarning: `result_format` configured at the Validator-level will not be persisted. Please add the configuration to your Checkpoint config or checkpoint_run() method instead.\n",
      "  warnings.warn(\n",
      "\n"
     ]
    },
    {
     "data": {
      "application/vnd.jupyter.widget-view+json": {
       "model_id": "443a5c37d7644afaa9f80e30ee851111",
       "version_major": 2,
       "version_minor": 0
      },
      "text/plain": [
       "Calculating Metrics:   0%|          | 0/8 [00:00<?, ?it/s]"
      ]
     },
     "metadata": {},
     "output_type": "display_data"
    },
    {
     "data": {
      "text/plain": [
       "{\n",
       "  \"success\": true,\n",
       "  \"result\": {\n",
       "    \"element_count\": 37452,\n",
       "    \"unexpected_count\": 0,\n",
       "    \"unexpected_percent\": 0.0,\n",
       "    \"partial_unexpected_list\": [],\n",
       "    \"missing_count\": 36505,\n",
       "    \"missing_percent\": 97.47143009719107,\n",
       "    \"unexpected_percent_total\": 0.0,\n",
       "    \"unexpected_percent_nonmissing\": 0.0\n",
       "  },\n",
       "  \"meta\": {},\n",
       "  \"exception_info\": {\n",
       "    \"raised_exception\": false,\n",
       "    \"exception_traceback\": null,\n",
       "    \"exception_message\": null\n",
       "  }\n",
       "}"
      ]
     },
     "execution_count": 88,
     "metadata": {},
     "output_type": "execute_result"
    }
   ],
   "source": [
    "# total_nominations\n",
    "validator.expect_column_values_to_be_of_type(\"total_nominations\", \"float\")\n",
    "validator.expect_column_vaLues_to_be_between(\"total_nominations\", 0, 1000)"
   ]
  },
  {
   "cell_type": "code",
   "execution_count": 89,
   "metadata": {},
   "outputs": [
    {
     "name": "stderr",
     "output_type": "stream",
     "text": [
      "[WARNING] /Users/bmacdonald/.local/share/virtualenvs/agora-data-tools-CK0oUlHB/lib/python3.9/site-packages/great_expectations/expectations/expectation.py:1481: UserWarning: `result_format` configured at the Validator-level will not be persisted. Please add the configuration to your Checkpoint config or checkpoint_run() method instead.\n",
      "  warnings.warn(\n",
      "\n"
     ]
    },
    {
     "name": "stdout",
     "output_type": "stream",
     "text": [
      "WARNING: 2024-06-27 11:56:52 | py.warnings | /Users/bmacdonald/.local/share/virtualenvs/agora-data-tools-CK0oUlHB/lib/python3.9/site-packages/great_expectations/expectations/expectation.py:1481: UserWarning: `result_format` configured at the Validator-level will not be persisted. Please add the configuration to your Checkpoint config or checkpoint_run() method instead.\n",
      "  warnings.warn(\n",
      "\n"
     ]
    },
    {
     "data": {
      "application/vnd.jupyter.widget-view+json": {
       "model_id": "49c09b9eecf3443ea85fae5c94d0a216",
       "version_major": 2,
       "version_minor": 0
      },
      "text/plain": [
       "Calculating Metrics:   0%|          | 0/8 [00:00<?, ?it/s]"
      ]
     },
     "metadata": {},
     "output_type": "display_data"
    },
    {
     "name": "stderr",
     "output_type": "stream",
     "text": [
      "[WARNING] /Users/bmacdonald/.local/share/virtualenvs/agora-data-tools-CK0oUlHB/lib/python3.9/site-packages/great_expectations/expectations/expectation.py:1481: UserWarning: `result_format` configured at the Validator-level will not be persisted. Please add the configuration to your Checkpoint config or checkpoint_run() method instead.\n",
      "  warnings.warn(\n",
      "\n"
     ]
    },
    {
     "name": "stdout",
     "output_type": "stream",
     "text": [
      "WARNING: 2024-06-27 11:56:52 | py.warnings | /Users/bmacdonald/.local/share/virtualenvs/agora-data-tools-CK0oUlHB/lib/python3.9/site-packages/great_expectations/expectations/expectation.py:1481: UserWarning: `result_format` configured at the Validator-level will not be persisted. Please add the configuration to your Checkpoint config or checkpoint_run() method instead.\n",
      "  warnings.warn(\n",
      "\n"
     ]
    },
    {
     "data": {
      "application/vnd.jupyter.widget-view+json": {
       "model_id": "1fe2c430d1ac4ebd80f8abf3f1d146d8",
       "version_major": 2,
       "version_minor": 0
      },
      "text/plain": [
       "Calculating Metrics:   0%|          | 0/8 [00:00<?, ?it/s]"
      ]
     },
     "metadata": {},
     "output_type": "display_data"
    },
    {
     "name": "stderr",
     "output_type": "stream",
     "text": [
      "[WARNING] /Users/bmacdonald/.local/share/virtualenvs/agora-data-tools-CK0oUlHB/lib/python3.9/site-packages/great_expectations/expectations/expectation.py:1481: UserWarning: `result_format` configured at the Validator-level will not be persisted. Please add the configuration to your Checkpoint config or checkpoint_run() method instead.\n",
      "  warnings.warn(\n",
      "\n"
     ]
    },
    {
     "name": "stdout",
     "output_type": "stream",
     "text": [
      "WARNING: 2024-06-27 11:56:53 | py.warnings | /Users/bmacdonald/.local/share/virtualenvs/agora-data-tools-CK0oUlHB/lib/python3.9/site-packages/great_expectations/expectations/expectation.py:1481: UserWarning: `result_format` configured at the Validator-level will not be persisted. Please add the configuration to your Checkpoint config or checkpoint_run() method instead.\n",
      "  warnings.warn(\n",
      "\n"
     ]
    },
    {
     "data": {
      "application/vnd.jupyter.widget-view+json": {
       "model_id": "3e733fcf5a494c8d8e8af532a83b4ae3",
       "version_major": 2,
       "version_minor": 0
      },
      "text/plain": [
       "Calculating Metrics:   0%|          | 0/8 [00:00<?, ?it/s]"
      ]
     },
     "metadata": {},
     "output_type": "display_data"
    },
    {
     "data": {
      "text/plain": [
       "{\n",
       "  \"success\": true,\n",
       "  \"result\": {\n",
       "    \"element_count\": 37452,\n",
       "    \"unexpected_count\": 0,\n",
       "    \"unexpected_percent\": 0.0,\n",
       "    \"partial_unexpected_list\": [],\n",
       "    \"missing_count\": 21462,\n",
       "    \"missing_percent\": 57.305350849086835,\n",
       "    \"unexpected_percent_total\": 0.0,\n",
       "    \"unexpected_percent_nonmissing\": 0.0\n",
       "  },\n",
       "  \"meta\": {},\n",
       "  \"exception_info\": {\n",
       "    \"raised_exception\": false,\n",
       "    \"exception_traceback\": null,\n",
       "    \"exception_message\": null\n",
       "  }\n",
       "}"
      ]
     },
     "execution_count": 89,
     "metadata": {},
     "output_type": "execute_result"
    }
   ],
   "source": [
    "# biodomains\n",
    "validator.expect_column_values_to_be_of_type(\"biodomains\", \"list\")\n",
    "validator.expect_column_values_to_have_list_members_of_type(column=\"biodomains\", member_type=\"str\")\n",
    "validator.expect_column_values_to_have_list_members(column=\"biodomains\", list_members={\n",
    "        'Apoptosis',\n",
    "        'Vasculature',\n",
    "        'Lipid Metabolism',\n",
    "        'Metal Binding and Homeostasis',\n",
    "        'Proteostasis',\n",
    "        'Immune Response',\n",
    "        'Cell Cycle',\n",
    "        'DNA Repair',\n",
    "        'Autophagy',\n",
    "        'Mitochondrial Metabolism',\n",
    "        'Structural Stabilization',\n",
    "        'Synapse',\n",
    "        'Endolysosome',\n",
    "        'Oxidative Stress',\n",
    "        'Epigenetic',\n",
    "        'APP Metabolism',\n",
    "        'RNA Spliceosome',\n",
    "        'Tau Homeostasis',\n",
    "        'Myelination'\n",
    "    }\n",
    ")"
   ]
  },
  {
   "cell_type": "code",
   "execution_count": 90,
   "metadata": {},
   "outputs": [
    {
     "name": "stderr",
     "output_type": "stream",
     "text": [
      "[WARNING] /Users/bmacdonald/.local/share/virtualenvs/agora-data-tools-CK0oUlHB/lib/python3.9/site-packages/great_expectations/expectations/expectation.py:1481: UserWarning: `result_format` configured at the Validator-level will not be persisted. Please add the configuration to your Checkpoint config or checkpoint_run() method instead.\n",
      "  warnings.warn(\n",
      "\n"
     ]
    },
    {
     "name": "stdout",
     "output_type": "stream",
     "text": [
      "WARNING: 2024-06-27 11:56:53 | py.warnings | /Users/bmacdonald/.local/share/virtualenvs/agora-data-tools-CK0oUlHB/lib/python3.9/site-packages/great_expectations/expectations/expectation.py:1481: UserWarning: `result_format` configured at the Validator-level will not be persisted. Please add the configuration to your Checkpoint config or checkpoint_run() method instead.\n",
      "  warnings.warn(\n",
      "\n"
     ]
    },
    {
     "data": {
      "application/vnd.jupyter.widget-view+json": {
       "model_id": "92ea5c8f86294049819c65608ecf10c4",
       "version_major": 2,
       "version_minor": 0
      },
      "text/plain": [
       "Calculating Metrics:   0%|          | 0/1 [00:00<?, ?it/s]"
      ]
     },
     "metadata": {},
     "output_type": "display_data"
    },
    {
     "name": "stderr",
     "output_type": "stream",
     "text": [
      "[WARNING] /Users/bmacdonald/.local/share/virtualenvs/agora-data-tools-CK0oUlHB/lib/python3.9/site-packages/great_expectations/expectations/expectation.py:1481: UserWarning: `result_format` configured at the Validator-level will not be persisted. Please add the configuration to your Checkpoint config or checkpoint_run() method instead.\n",
      "  warnings.warn(\n",
      "\n"
     ]
    },
    {
     "name": "stdout",
     "output_type": "stream",
     "text": [
      "WARNING: 2024-06-27 11:56:53 | py.warnings | /Users/bmacdonald/.local/share/virtualenvs/agora-data-tools-CK0oUlHB/lib/python3.9/site-packages/great_expectations/expectations/expectation.py:1481: UserWarning: `result_format` configured at the Validator-level will not be persisted. Please add the configuration to your Checkpoint config or checkpoint_run() method instead.\n",
      "  warnings.warn(\n",
      "\n"
     ]
    },
    {
     "data": {
      "application/vnd.jupyter.widget-view+json": {
       "model_id": "b793fe3a1c9d489390dc279b25d16aac",
       "version_major": 2,
       "version_minor": 0
      },
      "text/plain": [
       "Calculating Metrics:   0%|          | 0/6 [00:00<?, ?it/s]"
      ]
     },
     "metadata": {},
     "output_type": "display_data"
    },
    {
     "data": {
      "text/plain": [
       "{\n",
       "  \"success\": true,\n",
       "  \"result\": {\n",
       "    \"element_count\": 37452,\n",
       "    \"unexpected_count\": 0,\n",
       "    \"unexpected_percent\": 0.0,\n",
       "    \"partial_unexpected_list\": []\n",
       "  },\n",
       "  \"meta\": {},\n",
       "  \"exception_info\": {\n",
       "    \"raised_exception\": false,\n",
       "    \"exception_traceback\": null,\n",
       "    \"exception_message\": null\n",
       "  }\n",
       "}"
      ]
     },
     "execution_count": 90,
     "metadata": {},
     "output_type": "execute_result"
    }
   ],
   "source": [
    "# is_adi\n",
    "validator.expect_column_values_to_be_of_type(\"is_adi\", \"bool\")\n",
    "validator.expect_column_values_to_not_be_null(\"is_adi\")"
   ]
  },
  {
   "cell_type": "code",
   "execution_count": 91,
   "metadata": {},
   "outputs": [
    {
     "name": "stderr",
     "output_type": "stream",
     "text": [
      "[WARNING] /Users/bmacdonald/.local/share/virtualenvs/agora-data-tools-CK0oUlHB/lib/python3.9/site-packages/great_expectations/expectations/expectation.py:1481: UserWarning: `result_format` configured at the Validator-level will not be persisted. Please add the configuration to your Checkpoint config or checkpoint_run() method instead.\n",
      "  warnings.warn(\n",
      "\n"
     ]
    },
    {
     "name": "stdout",
     "output_type": "stream",
     "text": [
      "WARNING: 2024-06-27 11:56:53 | py.warnings | /Users/bmacdonald/.local/share/virtualenvs/agora-data-tools-CK0oUlHB/lib/python3.9/site-packages/great_expectations/expectations/expectation.py:1481: UserWarning: `result_format` configured at the Validator-level will not be persisted. Please add the configuration to your Checkpoint config or checkpoint_run() method instead.\n",
      "  warnings.warn(\n",
      "\n"
     ]
    },
    {
     "data": {
      "application/vnd.jupyter.widget-view+json": {
       "model_id": "5083379139ad429ebf1df30b945818a7",
       "version_major": 2,
       "version_minor": 0
      },
      "text/plain": [
       "Calculating Metrics:   0%|          | 0/1 [00:00<?, ?it/s]"
      ]
     },
     "metadata": {},
     "output_type": "display_data"
    },
    {
     "name": "stderr",
     "output_type": "stream",
     "text": [
      "[WARNING] /Users/bmacdonald/.local/share/virtualenvs/agora-data-tools-CK0oUlHB/lib/python3.9/site-packages/great_expectations/expectations/expectation.py:1481: UserWarning: `result_format` configured at the Validator-level will not be persisted. Please add the configuration to your Checkpoint config or checkpoint_run() method instead.\n",
      "  warnings.warn(\n",
      "\n"
     ]
    },
    {
     "name": "stdout",
     "output_type": "stream",
     "text": [
      "WARNING: 2024-06-27 11:56:53 | py.warnings | /Users/bmacdonald/.local/share/virtualenvs/agora-data-tools-CK0oUlHB/lib/python3.9/site-packages/great_expectations/expectations/expectation.py:1481: UserWarning: `result_format` configured at the Validator-level will not be persisted. Please add the configuration to your Checkpoint config or checkpoint_run() method instead.\n",
      "  warnings.warn(\n",
      "\n"
     ]
    },
    {
     "data": {
      "application/vnd.jupyter.widget-view+json": {
       "model_id": "3111a03e755b4e9aa42e85541d88475c",
       "version_major": 2,
       "version_minor": 0
      },
      "text/plain": [
       "Calculating Metrics:   0%|          | 0/6 [00:00<?, ?it/s]"
      ]
     },
     "metadata": {},
     "output_type": "display_data"
    },
    {
     "data": {
      "text/plain": [
       "{\n",
       "  \"success\": true,\n",
       "  \"result\": {\n",
       "    \"element_count\": 37452,\n",
       "    \"unexpected_count\": 0,\n",
       "    \"unexpected_percent\": 0.0,\n",
       "    \"partial_unexpected_list\": []\n",
       "  },\n",
       "  \"meta\": {},\n",
       "  \"exception_info\": {\n",
       "    \"raised_exception\": false,\n",
       "    \"exception_traceback\": null,\n",
       "    \"exception_message\": null\n",
       "  }\n",
       "}"
      ]
     },
     "execution_count": 91,
     "metadata": {},
     "output_type": "execute_result"
    }
   ],
   "source": [
    "# is_tep\n",
    "validator.expect_column_values_to_be_of_type(\"is_tep\", \"bool\")\n",
    "validator.expect_column_values_to_not_be_null(\"is_tep\")"
   ]
  },
  {
   "cell_type": "code",
   "execution_count": 92,
   "metadata": {},
   "outputs": [
    {
     "name": "stderr",
     "output_type": "stream",
     "text": [
      "[WARNING] /Users/bmacdonald/.local/share/virtualenvs/agora-data-tools-CK0oUlHB/lib/python3.9/site-packages/great_expectations/expectations/expectation.py:1481: UserWarning: `result_format` configured at the Validator-level will not be persisted. Please add the configuration to your Checkpoint config or checkpoint_run() method instead.\n",
      "  warnings.warn(\n",
      "\n"
     ]
    },
    {
     "name": "stdout",
     "output_type": "stream",
     "text": [
      "WARNING: 2024-06-27 11:56:53 | py.warnings | /Users/bmacdonald/.local/share/virtualenvs/agora-data-tools-CK0oUlHB/lib/python3.9/site-packages/great_expectations/expectations/expectation.py:1481: UserWarning: `result_format` configured at the Validator-level will not be persisted. Please add the configuration to your Checkpoint config or checkpoint_run() method instead.\n",
      "  warnings.warn(\n",
      "\n"
     ]
    },
    {
     "data": {
      "application/vnd.jupyter.widget-view+json": {
       "model_id": "16662953ced54b11a0a1f9b84a3ddc02",
       "version_major": 2,
       "version_minor": 0
      },
      "text/plain": [
       "Calculating Metrics:   0%|          | 0/8 [00:00<?, ?it/s]"
      ]
     },
     "metadata": {},
     "output_type": "display_data"
    },
    {
     "name": "stderr",
     "output_type": "stream",
     "text": [
      "[WARNING] /Users/bmacdonald/.local/share/virtualenvs/agora-data-tools-CK0oUlHB/lib/python3.9/site-packages/great_expectations/expectations/expectation.py:1481: UserWarning: `result_format` configured at the Validator-level will not be persisted. Please add the configuration to your Checkpoint config or checkpoint_run() method instead.\n",
      "  warnings.warn(\n",
      "\n"
     ]
    },
    {
     "name": "stdout",
     "output_type": "stream",
     "text": [
      "WARNING: 2024-06-27 11:56:53 | py.warnings | /Users/bmacdonald/.local/share/virtualenvs/agora-data-tools-CK0oUlHB/lib/python3.9/site-packages/great_expectations/expectations/expectation.py:1481: UserWarning: `result_format` configured at the Validator-level will not be persisted. Please add the configuration to your Checkpoint config or checkpoint_run() method instead.\n",
      "  warnings.warn(\n",
      "\n"
     ]
    },
    {
     "data": {
      "application/vnd.jupyter.widget-view+json": {
       "model_id": "f671bce27f7945eea49eb578188851ea",
       "version_major": 2,
       "version_minor": 0
      },
      "text/plain": [
       "Calculating Metrics:   0%|          | 0/8 [00:00<?, ?it/s]"
      ]
     },
     "metadata": {},
     "output_type": "display_data"
    },
    {
     "data": {
      "text/plain": [
       "{\n",
       "  \"success\": true,\n",
       "  \"result\": {\n",
       "    \"element_count\": 37452,\n",
       "    \"unexpected_count\": 0,\n",
       "    \"unexpected_percent\": 0.0,\n",
       "    \"partial_unexpected_list\": [],\n",
       "    \"missing_count\": 37308,\n",
       "    \"missing_percent\": 99.61550785004806,\n",
       "    \"unexpected_percent_total\": 0.0,\n",
       "    \"unexpected_percent_nonmissing\": 0.0\n",
       "  },\n",
       "  \"meta\": {},\n",
       "  \"exception_info\": {\n",
       "    \"raised_exception\": false,\n",
       "    \"exception_traceback\": null,\n",
       "    \"exception_message\": null\n",
       "  }\n",
       "}"
      ]
     },
     "execution_count": 92,
     "metadata": {},
     "output_type": "execute_result"
    }
   ],
   "source": [
    "# resource_url\n",
    "validator.expect_column_values_to_be_of_type(\"resource_url\", \"str\")\n",
    "validator.expect_column_values_to_match_regex(\"resource_url\", \"^https://adknowledgeportal.synapse.org/Explore/Target\")"
   ]
  },
  {
   "cell_type": "code",
   "execution_count": 93,
   "metadata": {},
   "outputs": [
    {
     "name": "stderr",
     "output_type": "stream",
     "text": [
      "[WARNING] /Users/bmacdonald/.local/share/virtualenvs/agora-data-tools-CK0oUlHB/lib/python3.9/site-packages/great_expectations/expectations/expectation.py:1481: UserWarning: `result_format` configured at the Validator-level will not be persisted. Please add the configuration to your Checkpoint config or checkpoint_run() method instead.\n",
      "  warnings.warn(\n",
      "\n"
     ]
    },
    {
     "name": "stdout",
     "output_type": "stream",
     "text": [
      "WARNING: 2024-06-27 11:56:53 | py.warnings | /Users/bmacdonald/.local/share/virtualenvs/agora-data-tools-CK0oUlHB/lib/python3.9/site-packages/great_expectations/expectations/expectation.py:1481: UserWarning: `result_format` configured at the Validator-level will not be persisted. Please add the configuration to your Checkpoint config or checkpoint_run() method instead.\n",
      "  warnings.warn(\n",
      "\n"
     ]
    },
    {
     "data": {
      "application/vnd.jupyter.widget-view+json": {
       "model_id": "45ad1896697c4622b12171c9e295c5b6",
       "version_major": 2,
       "version_minor": 0
      },
      "text/plain": [
       "Calculating Metrics:   0%|          | 0/8 [00:00<?, ?it/s]"
      ]
     },
     "metadata": {},
     "output_type": "display_data"
    },
    {
     "name": "stderr",
     "output_type": "stream",
     "text": [
      "[WARNING] /Users/bmacdonald/.local/share/virtualenvs/agora-data-tools-CK0oUlHB/lib/python3.9/site-packages/great_expectations/expectations/expectation.py:1481: UserWarning: `result_format` configured at the Validator-level will not be persisted. Please add the configuration to your Checkpoint config or checkpoint_run() method instead.\n",
      "  warnings.warn(\n",
      "\n"
     ]
    },
    {
     "name": "stdout",
     "output_type": "stream",
     "text": [
      "WARNING: 2024-06-27 11:56:53 | py.warnings | /Users/bmacdonald/.local/share/virtualenvs/agora-data-tools-CK0oUlHB/lib/python3.9/site-packages/great_expectations/expectations/expectation.py:1481: UserWarning: `result_format` configured at the Validator-level will not be persisted. Please add the configuration to your Checkpoint config or checkpoint_run() method instead.\n",
      "  warnings.warn(\n",
      "\n"
     ]
    },
    {
     "data": {
      "application/vnd.jupyter.widget-view+json": {
       "model_id": "d91a0779943740dca1bbddb6b4ed6476",
       "version_major": 2,
       "version_minor": 0
      },
      "text/plain": [
       "Calculating Metrics:   0%|          | 0/6 [00:00<?, ?it/s]"
      ]
     },
     "metadata": {},
     "output_type": "display_data"
    },
    {
     "name": "stderr",
     "output_type": "stream",
     "text": [
      "[WARNING] /Users/bmacdonald/.local/share/virtualenvs/agora-data-tools-CK0oUlHB/lib/python3.9/site-packages/great_expectations/expectations/expectation.py:1481: UserWarning: `result_format` configured at the Validator-level will not be persisted. Please add the configuration to your Checkpoint config or checkpoint_run() method instead.\n",
      "  warnings.warn(\n",
      "\n"
     ]
    },
    {
     "name": "stdout",
     "output_type": "stream",
     "text": [
      "WARNING: 2024-06-27 11:56:53 | py.warnings | /Users/bmacdonald/.local/share/virtualenvs/agora-data-tools-CK0oUlHB/lib/python3.9/site-packages/great_expectations/expectations/expectation.py:1481: UserWarning: `result_format` configured at the Validator-level will not be persisted. Please add the configuration to your Checkpoint config or checkpoint_run() method instead.\n",
      "  warnings.warn(\n",
      "\n"
     ]
    },
    {
     "data": {
      "application/vnd.jupyter.widget-view+json": {
       "model_id": "16ed9afc927f4f4c86335c53db75bc88",
       "version_major": 2,
       "version_minor": 0
      },
      "text/plain": [
       "Calculating Metrics:   0%|          | 0/8 [00:00<?, ?it/s]"
      ]
     },
     "metadata": {},
     "output_type": "display_data"
    },
    {
     "data": {
      "text/plain": [
       "{\n",
       "  \"success\": true,\n",
       "  \"result\": {\n",
       "    \"element_count\": 37452,\n",
       "    \"unexpected_count\": 0,\n",
       "    \"unexpected_percent\": 0.0,\n",
       "    \"partial_unexpected_list\": [],\n",
       "    \"missing_count\": 0,\n",
       "    \"missing_percent\": 0.0,\n",
       "    \"unexpected_percent_total\": 0.0,\n",
       "    \"unexpected_percent_nonmissing\": 0.0\n",
       "  },\n",
       "  \"meta\": {},\n",
       "  \"exception_info\": {\n",
       "    \"raised_exception\": false,\n",
       "    \"exception_traceback\": null,\n",
       "    \"exception_message\": null\n",
       "  }\n",
       "}"
      ]
     },
     "execution_count": 93,
     "metadata": {},
     "output_type": "execute_result"
    }
   ],
   "source": [
    "# ensembl_info\n",
    "validator.expect_column_values_to_be_of_type(\"ensembl_info\", \"str\")\n",
    "validator.expect_column_values_to_not_be_null(\"ensembl_info\")\n",
    "with open(\"../src/agoradatatools/great_expectations/gx/json_schemas/gene_info/ensembl_info.json\", \"r\") as file:\n",
    "    ensembl_info_schema = json.load(file)\n",
    "validator.expect_column_values_to_match_json_schema(\"ensembl_info\", ensembl_info_schema)"
   ]
  },
  {
   "cell_type": "code",
   "execution_count": 94,
   "metadata": {},
   "outputs": [
    {
     "name": "stderr",
     "output_type": "stream",
     "text": [
      "[WARNING] /Users/bmacdonald/.local/share/virtualenvs/agora-data-tools-CK0oUlHB/lib/python3.9/site-packages/great_expectations/expectations/expectation.py:1481: UserWarning: `result_format` configured at the Validator-level will not be persisted. Please add the configuration to your Checkpoint config or checkpoint_run() method instead.\n",
      "  warnings.warn(\n",
      "\n"
     ]
    },
    {
     "name": "stdout",
     "output_type": "stream",
     "text": [
      "WARNING: 2024-06-27 11:57:30 | py.warnings | /Users/bmacdonald/.local/share/virtualenvs/agora-data-tools-CK0oUlHB/lib/python3.9/site-packages/great_expectations/expectations/expectation.py:1481: UserWarning: `result_format` configured at the Validator-level will not be persisted. Please add the configuration to your Checkpoint config or checkpoint_run() method instead.\n",
      "  warnings.warn(\n",
      "\n"
     ]
    },
    {
     "data": {
      "application/vnd.jupyter.widget-view+json": {
       "model_id": "a2e263fa4da24fddab91a174d4e3ff17",
       "version_major": 2,
       "version_minor": 0
      },
      "text/plain": [
       "Calculating Metrics:   0%|          | 0/7 [00:00<?, ?it/s]"
      ]
     },
     "metadata": {},
     "output_type": "display_data"
    },
    {
     "data": {
      "text/plain": [
       "{\n",
       "  \"success\": true,\n",
       "  \"result\": {\n",
       "    \"element_count\": 37452,\n",
       "    \"unexpected_count\": 0,\n",
       "    \"unexpected_percent\": 0.0,\n",
       "    \"partial_unexpected_list\": [],\n",
       "    \"missing_count\": 0,\n",
       "    \"missing_percent\": 0.0,\n",
       "    \"unexpected_percent_total\": 0.0,\n",
       "    \"unexpected_percent_nonmissing\": 0.0\n",
       "  },\n",
       "  \"meta\": {},\n",
       "  \"exception_info\": {\n",
       "    \"raised_exception\": false,\n",
       "    \"exception_traceback\": null,\n",
       "    \"exception_message\": null\n",
       "  }\n",
       "}"
      ]
     },
     "execution_count": 94,
     "metadata": {},
     "output_type": "execute_result"
    }
   ],
   "source": [
    "# multi-field\n",
    "validator.expect_compound_columns_to_be_unique([\"hgnc_symbol\", \"ensembl_gene_id\"])"
   ]
  },
  {
   "cell_type": "markdown",
   "metadata": {},
   "source": [
    "## Save Expectation Suite"
   ]
  },
  {
   "cell_type": "code",
   "execution_count": 95,
   "metadata": {},
   "outputs": [],
   "source": [
    "validator.save_expectation_suite(discard_failed_expectations=False)"
   ]
  },
  {
   "cell_type": "markdown",
   "metadata": {},
   "source": [
    "## Create Checkpoint and View Results"
   ]
  },
  {
   "cell_type": "code",
   "execution_count": 96,
   "metadata": {},
   "outputs": [
    {
     "data": {
      "application/vnd.jupyter.widget-view+json": {
       "model_id": "531c3032f2f141c9b243944baa50fa78",
       "version_major": 2,
       "version_minor": 0
      },
      "text/plain": [
       "Calculating Metrics:   0%|          | 0/224 [00:00<?, ?it/s]"
      ]
     },
     "metadata": {},
     "output_type": "display_data"
    }
   ],
   "source": [
    "checkpoint = context.add_or_update_checkpoint(\n",
    "    name=\"agora-test-checkpoint\",\n",
    "    validator=validator,\n",
    ")\n",
    "checkpoint_result = checkpoint.run()\n",
    "context.view_validation_result(checkpoint_result)"
   ]
  },
  {
   "cell_type": "markdown",
   "metadata": {},
   "source": [
    "## Build Data Docs - Click on Expectation Suite to View All Expectations"
   ]
  },
  {
   "cell_type": "code",
   "execution_count": null,
   "metadata": {},
   "outputs": [],
   "source": [
    "context.build_data_docs()\n",
    "context.open_data_docs()\n"
   ]
  }
 ],
 "metadata": {
  "kernelspec": {
   "display_name": "Python 3",
   "language": "python",
   "name": "python3"
  },
  "language_info": {
   "codemirror_mode": {
    "name": "ipython",
    "version": 3
   },
   "file_extension": ".py",
   "mimetype": "text/x-python",
   "name": "python",
   "nbconvert_exporter": "python",
   "pygments_lexer": "ipython3",
   "version": "3.9.13"
  }
 },
 "nbformat": 4,
 "nbformat_minor": 2
}
