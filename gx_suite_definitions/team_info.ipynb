{
 "cells": [
  {
   "cell_type": "code",
   "execution_count": null,
   "metadata": {},
   "outputs": [],
   "source": [
    "import synapseclient\n",
    "import json\n",
    "\n",
    "import pandas as pd\n",
    "import great_expectations as gx\n",
    "\n",
    "from agoradatatools.gx import GreatExpectationsRunner\n",
    "\n",
    "context = gx.get_context(project_root_dir='../src/agoradatatools/great_expectations')"
   ]
  },
  {
   "cell_type": "markdown",
   "metadata": {},
   "source": [
    "# Create Expectation Suite for Team Info Data"
   ]
  },
  {
   "cell_type": "markdown",
   "metadata": {},
   "source": [
    "## Get Example Data File"
   ]
  },
  {
   "cell_type": "code",
   "execution_count": null,
   "metadata": {},
   "outputs": [],
   "source": [
    "syn = synapseclient.Synapse()\n",
    "syn.login()\n"
   ]
  },
  {
   "cell_type": "code",
   "execution_count": null,
   "metadata": {},
   "outputs": [],
   "source": [
    "team_info_data_file = syn.get(\"syn17015358\").path\n"
   ]
  },
  {
   "cell_type": "markdown",
   "metadata": {},
   "source": [
    "## Create Validator Object on Data File"
   ]
  },
  {
   "cell_type": "code",
   "execution_count": null,
   "metadata": {},
   "outputs": [],
   "source": [
    "df = pd.read_json(team_info_data_file)\n",
    "nested_columns = ['members']\n",
    "df = GreatExpectationsRunner.convert_nested_columns_to_json(df, nested_columns)\n",
    "validator = context.sources.pandas_default.read_dataframe(df)\n",
    "validator.expectation_suite_name = \"team_info\""
   ]
  },
  {
   "cell_type": "markdown",
   "metadata": {},
   "source": [
    "## Add Expectations to Validator Object For Each Column"
   ]
  },
  {
   "cell_type": "code",
   "execution_count": null,
   "metadata": {},
   "outputs": [],
   "source": [
    "# team\n",
    "validator.expect_column_values_to_be_of_type(\"team\", \"str\")\n",
    "validator.expect_column_values_to_not_be_null(\"team\")\n",
    "validator.expect_column_value_lengths_to_be_between(\"team\", min_value=3, max_value=50)\n",
    "validator.expect_column_values_to_be_in_set(\n",
    "    \"team\", {\n",
    "        \"Columbia-Rush\",\n",
    "        \"Duke\",\n",
    "        \"Emory\",\n",
    "        \"Harvard-MIT\",\n",
    "        \"MSSM - Roussos Lab\",\n",
    "        \"MSSM - Zhang Lab\",\n",
    "        \"Sage Bionetworks\",\n",
    "        \"Mayo-UFL-ISB\",\n",
    "        \"Chang Lab\", \n",
    "        \"JAX-VUMC-UW Resilience\",\n",
    "        \"ASU\",\n",
    "        \"Longo Lab\",\n",
    "        \"Duke BARU\", \n",
    "        \"Emory-Sage-SGC\",\n",
    "        \"IUSM-Purdue\",\n",
    "        \"Mayo\"\n",
    "    }\n",
    ")\n",
    "validator.expect_column_values_to_be_unique(\"team\")\n"
   ]
  },
  {
   "cell_type": "code",
   "execution_count": null,
   "metadata": {},
   "outputs": [],
   "source": [
    "# team_full\n",
    "validator.expect_column_values_to_be_of_type(\"team_full\", \"str\")\n",
    "validator.expect_column_values_to_not_be_null(\"team_full\")\n",
    "validator.expect_column_value_lengths_to_be_between(\"team_full\", min_value=10, max_value=100)\n",
    "validator.expect_column_values_to_match_regex(\"team_full\", \"^[a-zA-Z0-9-() ]+$\")\n",
    "validator.expect_column_values_to_be_unique(\"team_full\")\n"
   ]
  },
  {
   "cell_type": "code",
   "execution_count": null,
   "metadata": {},
   "outputs": [],
   "source": [
    "# program\n",
    "validator.expect_column_values_to_be_of_type(\"program\", \"str\")\n",
    "validator.expect_column_values_to_be_in_set(\"program\", {'Community Contributed', None, 'AMP-AD', 'Resilience-AD', 'TREAT-AD'})"
   ]
  },
  {
   "cell_type": "code",
   "execution_count": null,
   "metadata": {},
   "outputs": [],
   "source": [
    "# description\n",
    "validator.expect_column_values_to_be_of_type(\"description\", \"str\")\n",
    "validator.expect_column_values_to_not_be_null(\"description\")\n",
    "validator.expect_column_values_to_match_regex(\"description\", \"^[a-zA-Z0-9-(),.':/ ]+$\")\n",
    "validator.expect_column_value_lengths_to_be_between(\"description\", min_value=10, max_value=2000)"
   ]
  },
  {
   "cell_type": "code",
   "execution_count": null,
   "metadata": {},
   "outputs": [],
   "source": [
    "# members\n",
    "validator.expect_column_values_to_be_of_type(\"members\", \"str\")\n",
    "validator.expect_column_values_to_not_be_null(\"members\")\n",
    "#get JSON schema\n",
    "with open(\"../src/agoradatatools/great_expectations/gx/json_schemas/team_info/members_schema.json\", \"r\") as file:\n",
    "    members_schema = json.load(file)\n",
    "validator.expect_column_values_to_match_json_schema(\"members\", json_schema=members_schema)"
   ]
  },
  {
   "cell_type": "markdown",
   "metadata": {},
   "source": [
    "## Save Expectation Suite"
   ]
  },
  {
   "cell_type": "code",
   "execution_count": null,
   "metadata": {},
   "outputs": [],
   "source": [
    "validator.save_expectation_suite(discard_failed_expectations=False)\n"
   ]
  },
  {
   "cell_type": "markdown",
   "metadata": {},
   "source": [
    "## Create Checkpoint and View Results"
   ]
  },
  {
   "cell_type": "code",
   "execution_count": null,
   "metadata": {},
   "outputs": [],
   "source": [
    "checkpoint = context.add_or_update_checkpoint(\n",
    "    name=\"agora-test-checkpoint\",\n",
    "    validator=validator,\n",
    ")\n",
    "checkpoint_result = checkpoint.run()\n",
    "context.view_validation_result(checkpoint_result)\n"
   ]
  },
  {
   "cell_type": "markdown",
   "metadata": {},
   "source": [
    "## Build Data Docs - Click on Expectation Suite to View All Expectations"
   ]
  },
  {
   "cell_type": "code",
   "execution_count": null,
   "metadata": {},
   "outputs": [],
   "source": [
    "context.build_data_docs()\n",
    "context.open_data_docs()\n"
   ]
  }
 ],
 "metadata": {
  "kernelspec": {
   "display_name": "Python 3",
   "language": "python",
   "name": "python3"
  },
  "language_info": {
   "codemirror_mode": {
    "name": "ipython",
    "version": 3
   },
   "file_extension": ".py",
   "mimetype": "text/x-python",
   "name": "python",
   "nbconvert_exporter": "python",
   "pygments_lexer": "ipython3",
   "version": "3.9.13"
  }
 },
 "nbformat": 4,
 "nbformat_minor": 2
}
