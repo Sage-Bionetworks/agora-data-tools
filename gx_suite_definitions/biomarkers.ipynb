{
 "cells": [
  {
   "cell_type": "code",
   "execution_count": 1,
   "metadata": {},
   "outputs": [
    {
     "output_type": "error",
     "ename": "ModuleNotFoundError",
     "evalue": "No module named 'synapseclient'",
     "traceback": [
      "\u001b[0;31m---------------------------------------------------------------------------\u001b[0m",
      "\u001b[0;31mModuleNotFoundError\u001b[0m                       Traceback (most recent call last)",
      "Cell \u001b[0;32mIn[1], line 1\u001b[0m\n\u001b[0;32m----> 1\u001b[0m \u001b[38;5;28;01mimport\u001b[39;00m \u001b[38;5;21;01msynapseclient\u001b[39;00m\n\u001b[1;32m      3\u001b[0m \u001b[38;5;28;01mimport\u001b[39;00m \u001b[38;5;21;01mgreat_expectations\u001b[39;00m \u001b[38;5;28;01mas\u001b[39;00m \u001b[38;5;21;01mgx\u001b[39;00m\n\u001b[1;32m      5\u001b[0m context \u001b[38;5;241m=\u001b[39m gx\u001b[38;5;241m.\u001b[39mget_context(project_root_dir\u001b[38;5;241m=\u001b[39m\u001b[38;5;124m'\u001b[39m\u001b[38;5;124m../src/agoradatatools/great_expectations\u001b[39m\u001b[38;5;124m'\u001b[39m)\n",
      "\u001b[0;31mModuleNotFoundError\u001b[0m: No module named 'synapseclient'"
     ]
    }
   ],
   "source": [
    "import synapseclient\n",
    "\n",
    "import great_expectations as gx\n",
    "\n",
    "context = gx.get_context(project_root_dir='../src/agoradatatools/great_expectations')\n",
    "\n",
    "from expectations.expect_column_values_to_have_list_length import ExpectColumnValuesToHaveListLength\n",
    "from expectations.expect_column_values_to_have_list_members import ExpectColumnValuesToHaveListMembers\n",
    "from expectations.expect_column_values_to_have_list_members_of_type import ExpectColumnValuesToHaveListMembersOfType\n"
   ]
  },
  {
   "cell_type": "markdown",
   "metadata": {},
   "source": [
    "# Create Expectation Suite for Biomarkers Data"
   ]
  },
  {
   "cell_type": "markdown",
   "metadata": {},
   "source": [
    "## Get Example Data File"
   ]
  },
  {
   "cell_type": "code",
   "execution_count": null,
   "metadata": {},
   "outputs": [],
   "source": [
    "syn = synapseclient.Synapse()\n",
    "syn.login()\n"
   ]
  },
  {
   "cell_type": "code",
   "execution_count": null,
   "metadata": {},
   "outputs": [],
   "source": [
    "biomarkers_data_file = syn.get(\"syn61250724.1\").path\n"
   ]
  },
  {
   "cell_type": "markdown",
   "metadata": {},
   "source": [
    "## Create Validator Object on Data File"
   ]
  },
  {
   "cell_type": "code",
   "execution_count": null,
   "metadata": {},
   "outputs": [],
   "source": [
    "validator = context.sources.pandas_default.read_json(\n",
    "    metabolomics_data_file\n",
    ")\n",
    "validator.expectation_suite_name = \"biomarkers\"\n"
   ]
  },
  {
   "cell_type": "markdown",
   "metadata": {},
   "source": [
    "## Add Expectations to Validator Object For Each Column"
   ]
  },
  {
   "cell_type": "code",
   "execution_count": null,
   "metadata": {},
   "outputs": [],
   "source": [
    "# model\n",
    "validator.expect_column_values_to_be_of_type(\"model\", \"str\")\n",
    "validator.expect_column_values_to_not_be_null(\"model\")\n",
    "# allows all alphanumeric characters, underscores, periods, and dashes\n",
    "validator.expect_column_values_to_match_regex(\"model\", \"^[A-Za-z0-9_.-]+$\")\n"
   ]
  },
  {
   "cell_type": "code",
   "execution_count": null,
   "metadata": {},
   "outputs": [],
   "source": [
    "# type\n",
    "validator.expect_column_values_to_be_of_type(\"type\", \"str\")\n",
    "validator.expect_column_values_to_not_be_null(\"type\")\n",
    "# allows all alphanumeric characters, underscores, periods, and dashes\n",
    "validator.expect_column_values_to_match_regex(\"type\", \"^[A-Za-z0-9_.-]+$\")"
   ]
  },
  {
   "cell_type": "code",
   "execution_count": null,
   "metadata": {},
   "outputs": [],
   "source": [
    "# measurement\n",
    "validator.expect_column_values_to_be_of_type(\"measurement\", \"float\")\n",
    "validator.expect_column_values_to_not_be_null(\"measurement\")\n",
    "validator.expect_column_values_to_be_between(\"measurement\", strict_min_value=0, max_value=100)"
   ]
  },
  {
   "cell_type": "code",
   "execution_count": null,
   "metadata": {},
   "outputs": [],
   "source": [
    "# units\n",
    "validator.expect_column_values_to_be_of_type(\"units\", \"str\")\n",
    "validator.expect_column_values_to_not_be_null(\"units\")\n",
    "# allows all alphanumeric characters, underscores, periods, and dashes\n",
    "validator.expect_column_values_to_match_regex(\"units\", \"^[A-Za-z0-9_.-]+$\")"
   ]
  },
  {
   "cell_type": "code",
   "execution_count": null,
   "metadata": {},
   "outputs": [],
   "source": [
    "# age_death\n",
    "validator.expect_column_values_to_be_of_type(\"age_death\", \"float\")\n",
    "validator.expect_column_values_to_not_be_null(\"age_death\")\n",
    "validator.expect_column_values_to_be_between(\"age_death\", strict_min_value=0, max_value=100)"
   ]
  },
  {
   "cell_type": "code",
   "execution_count": null,
   "metadata": {},
   "outputs": [],
   "source": [
    "# tissue\n",
    "validator.expect_column_values_to_be_of_type(\"tissue\", \"str\")\n",
    "validator.expect_column_values_to_not_be_null(\"tissue\")\n",
    "# allows all alphanumeric characters, underscores, periods, and dashes\n",
    "validator.expect_column_values_to_match_regex(\"tissue\", \"^[A-Za-z0-9_.-]+$\")"
   ]
  },
  {
   "cell_type": "code",
   "execution_count": null,
   "metadata": {},
   "outputs": [],
   "source": [
    "# sex\n",
    "validator.expect_column_values_to_be_of_type(\"sex\", \"str\")\n",
    "validator.expect_column_values_to_not_be_null(\"sex\")\n",
    "# allows all alphanumeric characters, underscores, periods, and dashes\n",
    "validator.expect_column_values_to_match_regex(\"sex\", \"^[A-Za-z0-9_.-]+$\")"
   ]
  },
  {
   "cell_type": "code",
   "execution_count": null,
   "metadata": {},
   "outputs": [],
   "source": [
    "# genotype\n",
    "validator.expect_column_values_to_be_of_type(\"genotype\", \"str\")\n",
    "validator.expect_column_values_to_not_be_null(\"genotype\")\n",
    "# allows all alphanumeric characters, underscores, periods, and dashes\n",
    "validator.expect_column_values_to_match_regex(\"genotype\", \"^[A-Za-z0-9_.-]+$\")"
   ]
  },
  {
   "cell_type": "code",
   "execution_count": null,
   "metadata": {},
   "outputs": [],
   "source": [
    "validator.save_expectation_suite(discard_failed_expectations=False)\n"
   ]
  },
  {
   "cell_type": "markdown",
   "metadata": {},
   "source": [
    "## Create Checkpoint and View Results"
   ]
  },
  {
   "cell_type": "code",
   "execution_count": null,
   "metadata": {},
   "outputs": [],
   "source": [
    "checkpoint = context.add_or_update_checkpoint(\n",
    "    name=\"agora-test-checkpoint\",\n",
    "    validator=validator,\n",
    ")\n",
    "checkpoint_result = checkpoint.run()\n",
    "context.view_validation_result(checkpoint_result)\n"
   ]
  },
  {
   "cell_type": "markdown",
   "metadata": {},
   "source": [
    "## Build Data Docs - Click on Expectation Suite to View All Expectations"
   ]
  },
  {
   "cell_type": "code",
   "execution_count": null,
   "metadata": {},
   "outputs": [],
   "source": [
    "context.build_data_docs()\n",
    "context.open_data_docs()\n"
   ]
  }
 ],
 "metadata": {
  "kernelspec": {
   "name": "python3",
   "display_name": "Python 3.9.12 64-bit ('base': conda)",
   "metadata": {
    "interpreter": {
     "hash": "f1b86ccad77a6b137022476d9ed8e8d2fd5ce42750a4f9cb79396d0c5e92446d"
    }
   }
  },
  "language_info": {
   "codemirror_mode": {
    "name": "ipython",
    "version": 3
   },
   "file_extension": ".py",
   "mimetype": "text/x-python",
   "name": "python",
   "nbconvert_exporter": "python",
   "pygments_lexer": "ipython3",
   "version": "3.9.12-final"
  }
 },
 "nbformat": 4,
 "nbformat_minor": 2
}