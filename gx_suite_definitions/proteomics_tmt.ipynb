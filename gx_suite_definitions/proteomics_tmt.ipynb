{
 "cells": [
  {
   "cell_type": "code",
   "execution_count": null,
   "metadata": {},
   "outputs": [],
   "source": [
    "import synapseclient\n",
    "\n",
    "import pandas as pd\n",
    "import great_expectations as gx\n",
    "\n",
    "from agoradatatools.gx import GreatExpectationsRunner\n",
    "\n",
    "context = gx.get_context(project_root_dir='../src/agoradatatools/great_expectations')"
   ]
  },
  {
   "cell_type": "markdown",
   "metadata": {},
   "source": [
    "# Create Expectation Suite for Neuropath Correlation Data"
   ]
  },
  {
   "cell_type": "markdown",
   "metadata": {},
   "source": [
    "## Get Example Data File"
   ]
  },
  {
   "cell_type": "code",
   "execution_count": null,
   "metadata": {},
   "outputs": [],
   "source": [
    "syn = synapseclient.Synapse()\n",
    "syn.login()\n"
   ]
  },
  {
   "cell_type": "code",
   "execution_count": null,
   "metadata": {},
   "outputs": [],
   "source": [
    "overall_scores_data_file = syn.get(\"syn22130742\").path\n"
   ]
  },
  {
   "cell_type": "markdown",
   "metadata": {},
   "source": [
    "## Create Validator Object on Data File"
   ]
  },
  {
   "cell_type": "code",
   "execution_count": null,
   "metadata": {},
   "outputs": [],
   "source": [
    "df = pd.read_json(overall_scores_data_file)\n",
    "nested_columns = []\n",
    "df = GreatExpectationsRunner.convert_nested_columns_to_json(df, nested_columns)\n",
    "validator = context.sources.pandas_default.read_dataframe(df)\n",
    "validator.expectation_suite_name = \"neuropath_corr\""
   ]
  },
  {
   "cell_type": "markdown",
   "metadata": {},
   "source": [
    "## Add Expectations to Validator Object For Each Column"
   ]
  },
  {
   "cell_type": "code",
   "execution_count": null,
   "metadata": {},
   "outputs": [],
   "source": [
    "# ensg\n",
    "validator.expect_column_values_to_be_of_type(\"ensg\", \"str\")\n",
    "validator.expect_column_values_to_not_be_null(\"ensg\")\n",
    "validator.expect_column_value_lengths_to_equal(\"ensg\", 15)\n",
    "# checks format and allowed chatacters\n",
    "validator.expect_column_values_to_match_regex(\"ensg\", \"^ENSG\\d{11}$\")"
   ]
  },
  {
   "cell_type": "code",
   "execution_count": null,
   "metadata": {},
   "outputs": [],
   "source": [
    "# gname\n",
    "validator.expect_column_values_to_be_of_type(\"gname\", \"str\")\n",
    "validator.expect_column_value_lengths_to_be_between(\"gname\", 1, 25)\n",
    "validator.expect_column_values_to_match_regex(\"gname\", \"^[a-zA-Z0-9-]*$\")"
   ]
  },
  {
   "cell_type": "code",
   "execution_count": null,
   "metadata": {},
   "outputs": [],
   "source": [
    "# oddsratio\n",
    "validator.expect_column_values_to_be_of_type(\"oddsratio\", \"float\")\n",
    "validator.expect_column_values_to_be_between(\"oddsratio\", 0, 2)\n",
    "validator.expect_column_values_to_not_be_null(\"oddsratio\")"
   ]
  },
  {
   "cell_type": "code",
   "execution_count": null,
   "metadata": {},
   "outputs": [],
   "source": [
    "# ci_lower\n",
    "validator.expect_column_values_to_be_of_type(\"ci_lower\", \"float\")\n",
    "validator.expect_column_values_to_be_between(\"ci_lower\", 0, 2)\n",
    "validator.expect_column_values_to_not_be_null(\"ci_lower\")"
   ]
  },
  {
   "cell_type": "code",
   "execution_count": null,
   "metadata": {},
   "outputs": [],
   "source": [
    "# ci_upper\n",
    "validator.expect_column_values_to_be_of_type(\"ci_upper\", \"float\")\n",
    "validator.expect_column_values_to_be_between(\"ci_upper\", 0, 3)\n",
    "validator.expect_column_values_to_not_be_null(\"ci_upper\")"
   ]
  },
  {
   "cell_type": "code",
   "execution_count": null,
   "metadata": {},
   "outputs": [],
   "source": [
    "# pval\n",
    "validator.expect_column_values_to_be_of_type(\"pval\", \"float\")\n",
    "validator.expect_column_values_to_be_between(\"pval\", 0, 1)\n",
    "validator.expect_column_values_to_not_be_null(\"pval\")"
   ]
  },
  {
   "cell_type": "code",
   "execution_count": null,
   "metadata": {},
   "outputs": [],
   "source": [
    "# pval\n",
    "validator.expect_column_values_to_be_of_type(\"pval_adj\", \"float\")\n",
    "validator.expect_column_values_to_be_between(\"pval_adj\", 0, 1)\n",
    "validator.expect_column_values_to_not_be_null(\"pval_adj\")"
   ]
  },
  {
   "cell_type": "code",
   "execution_count": null,
   "metadata": {},
   "outputs": [],
   "source": [
    "# neuropath_type\n",
    "validator.expect_column_values_to_be_of_type(\"neuropath_type\", \"str\")\n",
    "validator.expect_column_values_to_not_be_null(\"neuropath_type\")\n",
    "validator.expect_column_values_to_be_in_set(\"neuropath_type\", ['BRAAK', 'CERAD', 'DCFDX', 'COGDX'])"
   ]
  },
  {
   "cell_type": "code",
   "execution_count": null,
   "metadata": {},
   "outputs": [],
   "source": [
    "# multi-field\n",
    "validator.expect_compound_columns_to_be_unique([\"ensg\", \"neuropath_type\"])\n",
    "validator.expect_compound_columns_to_be_unique([\"ensg\", \"gname\", \"neuropath_type\"])"
   ]
  },
  {
   "cell_type": "markdown",
   "metadata": {},
   "source": [
    "## Save Expectation Suite"
   ]
  },
  {
   "cell_type": "code",
   "execution_count": null,
   "metadata": {},
   "outputs": [],
   "source": [
    "validator.save_expectation_suite(discard_failed_expectations=False)\n"
   ]
  },
  {
   "cell_type": "markdown",
   "metadata": {},
   "source": [
    "## Create Checkpoint and View Results"
   ]
  },
  {
   "cell_type": "code",
   "execution_count": null,
   "metadata": {},
   "outputs": [],
   "source": [
    "checkpoint = context.add_or_update_checkpoint(\n",
    "    name=\"agora-test-checkpoint\",\n",
    "    validator=validator,\n",
    ")\n",
    "checkpoint_result = checkpoint.run()\n",
    "context.view_validation_result(checkpoint_result)\n"
   ]
  },
  {
   "cell_type": "markdown",
   "metadata": {},
   "source": [
    "## Build Data Docs - Click on Expectation Suite to View All Expectations"
   ]
  },
  {
   "cell_type": "code",
   "execution_count": null,
   "metadata": {},
   "outputs": [],
   "source": [
    "context.build_data_docs()\n",
    "context.open_data_docs()\n"
   ]
  }
 ],
 "metadata": {
  "kernelspec": {
   "display_name": "agora-data-tools-CK0oUlHB",
   "language": "python",
   "name": "python3"
  },
  "language_info": {
   "codemirror_mode": {
    "name": "ipython",
    "version": 3
   },
   "file_extension": ".py",
   "mimetype": "text/x-python",
   "name": "python",
   "nbconvert_exporter": "python",
   "pygments_lexer": "ipython3",
   "version": "3.9.13"
  }
 },
 "nbformat": 4,
 "nbformat_minor": 2
}
