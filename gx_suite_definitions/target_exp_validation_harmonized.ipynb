{
 "cells": [
  {
   "cell_type": "code",
   "execution_count": null,
   "metadata": {},
   "outputs": [],
   "source": [
    "import synapseclient\n",
    "\n",
    "import great_expectations as gx\n",
    "\n",
    "context = gx.get_context(project_root_dir='../src/agoradatatools/great_expectations')"
   ]
  },
  {
   "cell_type": "markdown",
   "metadata": {},
   "source": [
    "# Create Expectation Suite for Target Exp Validation Harmonized Data"
   ]
  },
  {
   "cell_type": "markdown",
   "metadata": {},
   "source": [
    "## Get Example Data File"
   ]
  },
  {
   "cell_type": "code",
   "execution_count": null,
   "metadata": {},
   "outputs": [],
   "source": [
    "syn = synapseclient.Synapse()\n",
    "syn.login()\n"
   ]
  },
  {
   "cell_type": "code",
   "execution_count": null,
   "metadata": {},
   "outputs": [],
   "source": [
    "target_exp_validation_harmonized_data_file = syn.get(\"syn25740978\").path\n"
   ]
  },
  {
   "cell_type": "markdown",
   "metadata": {},
   "source": [
    "## Create Validator Object on Data File"
   ]
  },
  {
   "cell_type": "code",
   "execution_count": null,
   "metadata": {},
   "outputs": [],
   "source": [
    "validator = context.sources.pandas_default.read_json(\n",
    "    target_exp_validation_harmonized_data_file\n",
    ")\n",
    "validator.expectation_suite_name = \"target_exp_validation_harmonized\"\n"
   ]
  },
  {
   "cell_type": "markdown",
   "metadata": {},
   "source": [
    "## Add Expectations to Validator Object For Each Column"
   ]
  },
  {
   "cell_type": "code",
   "execution_count": null,
   "metadata": {},
   "outputs": [],
   "source": [
    "# ensembl_gene_id\n",
    "validator.expect_column_values_to_be_of_type(\"ensembl_gene_id\", \"str\")\n",
    "validator.expect_column_values_to_not_be_null(\"ensembl_gene_id\")\n",
    "validator.expect_column_value_lengths_to_equal(\"ensembl_gene_id\", 15)\n",
    "# checks format and allowed chatacters\n",
    "validator.expect_column_values_to_match_regex(\"ensembl_gene_id\", \"^ENSG\\d{11}$\")\n"
   ]
  },
  {
   "cell_type": "code",
   "execution_count": null,
   "metadata": {},
   "outputs": [],
   "source": [
    "# hgnc_symbol\n",
    "validator.expect_column_values_to_be_of_type(\"hgnc_symbol\", \"str\")\n",
    "validator.expect_column_value_lengths_to_be_between(\"hgnc_symbol\", 2, 100)\n",
    "validator.expect_column_values_to_match_regex(\"hgnc_symbol\", \"^[a-zA-Z0-9_() ]*$\")\n",
    "validator.expect_column_values_to_not_be_null(\"hgnc_symbol\")"
   ]
  },
  {
   "cell_type": "code",
   "execution_count": null,
   "metadata": {},
   "outputs": [],
   "source": [
    "# hypothesis_tested\n",
    "validator.expect_column_values_to_be_of_type(\"hypothesis_tested\", \"str\")\n",
    "validator.expect_column_value_lengths_to_be_between(\"hypothesis_tested\", 2, 1000)\n",
    "validator.expect_column_values_to_not_match_regex(\"hypothesis_tested\", \"\\ufffd\")"
   ]
  },
  {
   "cell_type": "code",
   "execution_count": null,
   "metadata": {},
   "outputs": [],
   "source": [
    "# summary_findings\n",
    "validator.expect_column_values_to_be_of_type(\"summary_findings\", \"str\")\n",
    "validator.expect_column_value_lengths_to_be_between(\"summary_findings\", 2, 1000)\n",
    "validator.expect_column_values_to_not_match_regex(\"summary_findings\", \"\\ufffd\")"
   ]
  },
  {
   "cell_type": "code",
   "execution_count": null,
   "metadata": {},
   "outputs": [],
   "source": [
    "# published \n",
    "validator.expect_column_values_to_be_of_type(\"published\", \"str\")\n",
    "validator.expect_column_values_to_be_in_set(\"published\", [\"yes\", \"Yes\", \"no\", \"No\"])\n",
    "validator.expect_column_values_to_not_be_null(\"published\")"
   ]
  },
  {
   "cell_type": "code",
   "execution_count": null,
   "metadata": {},
   "outputs": [],
   "source": [
    "# reference\n",
    "validator.expect_column_values_to_be_of_type(\"reference\", \"str\")\n",
    "validator.expect_column_value_lengths_to_be_between(\"reference\", 2, 1000)\n",
    "validator.expect_column_values_to_not_match_regex(\"reference\", \"\\ufffd\")"
   ]
  },
  {
   "cell_type": "code",
   "execution_count": null,
   "metadata": {},
   "outputs": [],
   "source": [
    "# species\n",
    "validator.expect_column_values_to_be_of_type(\"species\", \"str\")\n",
    "validator.expect_column_values_to_be_in_set(\"species\", [\n",
    "        \"Mouse\",\n",
    "        \"Human\",\n",
    "        \"Human, Mouse\",\n",
    "        \"Human, Drosophila\",\n",
    "        \"Drosophila\",\n",
    "        \"Drosophila, Human\",\n",
    "        \"Human \", \n",
    "        \"Zebrafish\",\n",
    "    ]\n",
    ")\n",
    "validator.expect_column_values_to_not_match_regex(\"species\", \"\\ufffd\")"
   ]
  },
  {
   "cell_type": "code",
   "execution_count": null,
   "metadata": {},
   "outputs": [],
   "source": [
    "# model_system\n",
    "validator.expect_column_values_to_be_of_type(\"model_system\", \"str\")\n",
    "validator.expect_column_value_lengths_to_be_between(\"model_system\", 2, 1000)\n",
    "validator.expect_column_values_to_not_match_regex(\"model_system\", \"\\ufffd\")\n"
   ]
  },
  {
   "cell_type": "code",
   "execution_count": null,
   "metadata": {},
   "outputs": [],
   "source": [
    "# outcome_measure\n",
    "validator.expect_column_values_to_be_of_type(\"outcome_measure\", \"str\")\n",
    "validator.expect_column_values_to_be_in_set(\"outcome_measure\", [\n",
    "        \"Behavioral\",\n",
    "        \"Electrophysiology\",\n",
    "        \"Biochemical\",\n",
    "        \"Biomarker\",\n",
    "        \"Cell Biology\",\n",
    "        \"Other\",\n",
    "        \"Histopathology\",\n",
    "        \"Imaging\",\n",
    "        \"Omics\",\n",
    "        \"Immunochemistry\",\n",
    "        \"Immunohistochemistry\",\n",
    "    ]\n",
    ")\n",
    "validator.expect_column_values_to_not_match_regex(\"outcome_measure\", \"\\ufffd\")"
   ]
  },
  {
   "cell_type": "code",
   "execution_count": null,
   "metadata": {},
   "outputs": [],
   "source": [
    "# outcome_measure_details\n",
    "validator.expect_column_values_to_be_of_type(\"outcome_measure_details\", \"str\")\n",
    "validator.expect_column_value_lengths_to_be_between(\"outcome_measure_details\", 2, 2000)\n",
    "validator.expect_column_values_to_not_match_regex(\"outcome_measure_details\", \"\\ufffd\")"
   ]
  },
  {
   "cell_type": "code",
   "execution_count": null,
   "metadata": {},
   "outputs": [],
   "source": [
    "# balanced_for_sex \n",
    "validator.expect_column_values_to_be_of_type(\"balanced_for_sex\", \"str\")\n",
    "validator.expect_column_values_to_be_in_set(\"balanced_for_sex\", [\"yes\", \"Yes\", \"no\", \"No\"])"
   ]
  },
  {
   "cell_type": "code",
   "execution_count": null,
   "metadata": {},
   "outputs": [],
   "source": [
    "# contributors\n",
    "validator.expect_column_values_to_be_of_type(\"contributors\", \"str\")\n",
    "validator.expect_column_value_lengths_to_be_between(\"contributors\", 2, 1000)"
   ]
  },
  {
   "cell_type": "code",
   "execution_count": null,
   "metadata": {},
   "outputs": [],
   "source": [
    "# team\n",
    "validator.expect_column_values_to_be_of_type(\"team\", \"str\")\n",
    "validator.expect_column_values_to_be_in_set(\"team\", [\n",
    "    \"Duke\",\n",
    "    \"Columbia-Rush\",\n",
    "    \"MSSM - Zhang Lab\",\n",
    "    \"Emory\",\n",
    "    \"Mayo-UFL-ISB\",\n",
    "    \"Mayo\",\n",
    "    ]\n",
    ")"
   ]
  },
  {
   "cell_type": "code",
   "execution_count": null,
   "metadata": {},
   "outputs": [],
   "source": [
    "# reference_doi\n",
    "validator.expect_column_values_to_be_of_type(\"reference_doi\", \"str\")\n",
    "validator.expect_column_value_lengths_to_be_between(\"reference_doi\", 2, 1000)\n",
    "validator.expect_column_values_to_match_regex(\"reference_doi\", \"https://doi\\.org/[A-Za-z0-9/]+\")"
   ]
  },
  {
   "cell_type": "code",
   "execution_count": null,
   "metadata": {},
   "outputs": [],
   "source": [
    "# date_report\n",
    "validator.expect_column_values_to_be_of_type(\"date_report\", \"str\")\n",
    "validator.expect_column_values_to_match_strftime_format(\"date_report\", \"%m/%d/%y\")"
   ]
  },
  {
   "cell_type": "markdown",
   "metadata": {},
   "source": [
    "## Save Expectation Suite"
   ]
  },
  {
   "cell_type": "code",
   "execution_count": null,
   "metadata": {},
   "outputs": [],
   "source": [
    "validator.save_expectation_suite(discard_failed_expectations=False)\n"
   ]
  },
  {
   "cell_type": "markdown",
   "metadata": {},
   "source": [
    "## Create Checkpoint and View Results"
   ]
  },
  {
   "cell_type": "code",
   "execution_count": null,
   "metadata": {},
   "outputs": [],
   "source": [
    "checkpoint = context.add_or_update_checkpoint(\n",
    "    name=\"agora-test-checkpoint\",\n",
    "    validator=validator,\n",
    ")\n",
    "checkpoint_result = checkpoint.run()\n",
    "context.view_validation_result(checkpoint_result)\n"
   ]
  },
  {
   "cell_type": "markdown",
   "metadata": {},
   "source": [
    "## Build Data Docs - Click on Expectation Suite to View All Expectations"
   ]
  },
  {
   "cell_type": "code",
   "execution_count": null,
   "metadata": {},
   "outputs": [],
   "source": [
    "context.build_data_docs()\n",
    "context.open_data_docs()\n"
   ]
  }
 ],
 "metadata": {
  "kernelspec": {
   "display_name": "Python 3",
   "language": "python",
   "name": "python3"
  },
  "language_info": {
   "codemirror_mode": {
    "name": "ipython",
    "version": 3
   },
   "file_extension": ".py",
   "mimetype": "text/x-python",
   "name": "python",
   "nbconvert_exporter": "python",
   "pygments_lexer": "ipython3",
   "version": "3.9.13"
  }
 },
 "nbformat": 4,
 "nbformat_minor": 2
}
