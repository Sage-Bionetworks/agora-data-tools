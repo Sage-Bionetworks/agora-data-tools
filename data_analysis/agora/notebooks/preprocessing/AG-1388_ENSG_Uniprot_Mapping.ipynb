{
 "cells": [
  {
   "cell_type": "markdown",
   "metadata": {},
   "source": [
    "# Create UniProt Mapping File\n",
    "\n",
    "This notebook creates a file that maps Ensembl IDs to UniProt accession numbers. It uses all Ensembl IDs that are present in Agora input files (excluding druggability), queries UniProtKB for matching accession numbers, and writes the file to a tsv. This notebook uses UniprotKB-Swiss-Prot as its source, which ensures that all accessions returned have been reviewed and annotated by UniProt and are likely to be primary accessions only.\n",
    "\n",
    "## Installation requirements\n",
    "\n",
    "Install Python and agora-data-tools following the instructions in this repository's README. This notebook assumes it is being run from the same `pipenv` virtual environment as agora-data-tools. \n",
    "\n",
    "Then install the following packages using `pip`:\n",
    "```\n",
    "pip install unipressed\n",
    "```"
   ]
  },
  {
   "cell_type": "code",
   "execution_count": null,
   "metadata": {},
   "outputs": [],
   "source": [
    "from unipressed import IdMappingClient\n",
    "import time\n",
    "import pandas as pd\n",
    "import preprocessing_utils\n",
    "\n",
    "config_filename = \"../../../../config.yaml\""
   ]
  },
  {
   "cell_type": "markdown",
   "metadata": {},
   "source": [
    "## Get the list of nominated targets for Agora"
   ]
  },
  {
   "cell_type": "code",
   "execution_count": null,
   "metadata": {},
   "outputs": [],
   "source": [
    "targets_df = preprocessing_utils.load_file_with_name(\"target_list\", config_filename=config_filename)"
   ]
  },
  {
   "cell_type": "markdown",
   "metadata": {},
   "source": [
    "## Get Ensembl IDs from data sets that will be processed by agora-data-tools\n",
    "\n",
    "Loop through all data sets in the config file to get all Ensembl IDs used in every data set. NOTE: In the future, it would be simpler to just load the `gene_metadata` data set once druggability genes are removed from it, rather than looping through all of these files. "
   ]
  },
  {
   "cell_type": "code",
   "execution_count": null,
   "metadata": {},
   "outputs": [],
   "source": [
    "ensembl_ids = preprocessing_utils.get_all_adt_ensembl_ids(\n",
    "    config_filename=config_filename,\n",
    "    exclude_files=[\"gene_metadata\", \"druggability\"],\n",
    ")\n",
    "print(\"\")\n",
    "print(str(len(ensembl_ids)) + \" Ensembl IDs found.\")"
   ]
  },
  {
   "cell_type": "markdown",
   "metadata": {},
   "source": [
    "Query UniProt for accession numbers that match to Ensembl IDs. Using `UniProtKB-Swiss-Prot` ensures that all accession numbers returned have been reviewed and are highly likely to be primary accessions."
   ]
  },
  {
   "cell_type": "code",
   "execution_count": null,
   "metadata": {},
   "outputs": [],
   "source": [
    "# Break the query into smaller chunks to avoid long jobs that could fail\n",
    "batch_ind = range(0, len(ensembl_ids), 1000)\n",
    "results = []\n",
    "\n",
    "for B in batch_ind:\n",
    "    end = min(len(ensembl_ids), B + 1000)\n",
    "    print(\"Querying genes \" + str(B + 1) + \" - \" + str(end))\n",
    "    \n",
    "    request = IdMappingClient.submit(\n",
    "        source=\"Ensembl\", dest=\"UniProtKB-Swiss-Prot\", ids=ensembl_ids[B:end]\n",
    "    )\n",
    "\n",
    "    found = False\n",
    "    while not found:\n",
    "        time.sleep(2)\n",
    "        \n",
    "        status = request.get_status()\n",
    "        if (status == \"FINISHED\"):\n",
    "            results = results + list(request.each_result())\n",
    "            found = True\n",
    "        else:\n",
    "            print(\"Waiting for response from UniProt...\")"
   ]
  },
  {
   "cell_type": "code",
   "execution_count": null,
   "metadata": {},
   "outputs": [],
   "source": [
    "mapping = pd.DataFrame(results).rename(\n",
    "    columns={\"from\": \"RESOURCE_IDENTIFIER\", \"to\": \"UniProtKB_accession\"}\n",
    ")\n",
    "mapping = mapping[[\"UniProtKB_accession\", \"RESOURCE_IDENTIFIER\"]]\n",
    "\n",
    "nomination_string = \"Agora Nominated Target for Alzheimer’s Disease\"\n",
    "\n",
    "mapping[\"OPTIONAL_INFORMATION\"] = \"\"\n",
    "mapping[\"OPTIONAL_INFORMATION\"].loc[\n",
    "    mapping[\"RESOURCE_IDENTIFIER\"].isin(targets_df[\"ensembl_gene_id\"])\n",
    "] = nomination_string\n",
    "mapping"
   ]
  },
  {
   "cell_type": "code",
   "execution_count": null,
   "metadata": {},
   "outputs": [],
   "source": [
    "mapping.to_csv(path_or_buf=\"../../output/ensg_to_uniprot_mapping.tsv\", sep=\"\\t\", header=True, index=False)"
   ]
  },
  {
   "cell_type": "markdown",
   "metadata": {},
   "source": [
    "# Extra information printouts"
   ]
  },
  {
   "cell_type": "markdown",
   "metadata": {},
   "source": [
    "Total number of Ensembl IDs that match to a UniProt accession:"
   ]
  },
  {
   "cell_type": "code",
   "execution_count": null,
   "metadata": {},
   "outputs": [],
   "source": [
    "matches = len(mapping[\"RESOURCE_IDENTIFIER\"].drop_duplicates())\n",
    "total = len(ensembl_ids)\n",
    "pct = round(matches * 100 / total, ndigits = 2)\n",
    "\n",
    "print(f'{matches:.0f} of {total:.0f} ({pct:.2f}%) Ensembl IDs match to an accession')"
   ]
  },
  {
   "cell_type": "markdown",
   "metadata": {},
   "source": [
    "Ensembl IDs that match to more than one UniProt accession:"
   ]
  },
  {
   "cell_type": "code",
   "execution_count": null,
   "metadata": {},
   "outputs": [],
   "source": [
    "dupes = mapping[\"RESOURCE_IDENTIFIER\"].loc[mapping[\"RESOURCE_IDENTIFIER\"].duplicated()].drop_duplicates()\n",
    "print(f'{len(dupes):d} Ensembl IDs map to more than one UniProt accession')\n",
    "mapping.loc[mapping[\"RESOURCE_IDENTIFIER\"].isin(dupes)].sort_values(by=\"RESOURCE_IDENTIFIER\")"
   ]
  },
  {
   "cell_type": "markdown",
   "metadata": {},
   "source": [
    "UniProt accessions that match to more than one Ensembl ID:"
   ]
  },
  {
   "cell_type": "code",
   "execution_count": null,
   "metadata": {},
   "outputs": [],
   "source": [
    "dupes2 = mapping[\"UniProtKB_accession\"].loc[mapping[\"UniProtKB_accession\"].duplicated()].drop_duplicates()\n",
    "print(f'{len(dupes2):d} UniProt accessions map to more than one Ensembl ID')\n",
    "mapping.loc[mapping[\"UniProtKB_accession\"].isin(dupes2)].sort_values(by=\"UniProtKB_accession\")"
   ]
  },
  {
   "cell_type": "markdown",
   "metadata": {},
   "source": [
    "Are any nominated targets missing a Uniprot accession?"
   ]
  },
  {
   "cell_type": "code",
   "execution_count": null,
   "metadata": {},
   "outputs": [],
   "source": [
    "ens = targets_df[\"ensembl_gene_id\"].drop_duplicates()\n",
    "missing = len(ens) - sum(ens.isin(mapping[\"RESOURCE_IDENTIFIER\"]))\n",
    "\n",
    "if missing == 0:\n",
    "    print(\"All nominated targets have a matching UniProt accession.\")\n",
    "\n",
    "else:\n",
    "    print(f\"{missing} of {len(ens)} nominated targets are missing a UniProt accession.\")\n",
    "    missing_ens = [x for x in ens if x not in list(mapping[\"RESOURCE_IDENTIFIER\"])]\n",
    "    print(\n",
    "        targets_df[targets_df[\"ensembl_gene_id\"].isin(missing_ens)][\n",
    "            [\"ensembl_gene_id\", \"hgnc_symbol\"]\n",
    "        ]\n",
    "    )"
   ]
  }
 ],
 "metadata": {
  "kernelspec": {
   "display_name": "agora-data-tools-ywFp1Gf9",
   "language": "python",
   "name": "python3"
  },
  "language_info": {
   "codemirror_mode": {
    "name": "ipython",
    "version": 3
   },
   "file_extension": ".py",
   "mimetype": "text/x-python",
   "name": "python",
   "nbconvert_exporter": "python",
   "pygments_lexer": "ipython3",
   "version": "3.9.13"
  }
 },
 "nbformat": 4,
 "nbformat_minor": 2
}
