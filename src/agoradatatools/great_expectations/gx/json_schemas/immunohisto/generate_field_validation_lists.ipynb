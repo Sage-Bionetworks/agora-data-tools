{
 "cells": [
  {
   "cell_type": "markdown",
   "metadata": {},
   "source": [
    "## Generate Jsons of Expected Field Values for Datasets\n",
    "We need to identify and standardize all possible values for a set of fields in the MODEL-AD immunohisto data (biomarkers and pathology - or more). Although it is not ideal to create a validation set directly from the data, we decided it would be best to start here and manually update the lists as needed.\n",
    "\n",
    "#### General steps:\n",
    "1. Define your datasets\n",
    "2. Download the data\n",
    "3. Get unique set of values for each field of interest\n",
    "4. Output the information in a json to be read during gx validation"
   ]
  },
  {
   "cell_type": "code",
   "execution_count": null,
   "metadata": {},
   "outputs": [],
   "source": [
    "import json\n",
    "from agoradatatools.etl import extract, utils"
   ]
  },
  {
   "cell_type": "markdown",
   "metadata": {},
   "source": [
    "#### User specified values\n",
    "You must create a dataset object with the following structure.\n",
    "```\n",
    "datasets = {\n",
    "    \"dataset_name\": {\n",
    "        \"synapse_id\": \"ID\",\n",
    "        \"fields\": {\n",
    "            \"field_name\": [],\n",
    "            \"field_name\": [],\n",
    "            ...\n",
    "        }\n",
    "    },\n",
    "    ...\n",
    "}\n",
    "```\n",
    "If you want to extract more fields, add '\"field_name\": []' to the \"fields\" dictionary. After running the notebook, the unique field values will be stored as a list for each field."
   ]
  },
  {
   "cell_type": "code",
   "execution_count": null,
   "metadata": {},
   "outputs": [],
   "source": [
    "# User specified values\n",
    "\n",
    "datasets = {\n",
    "    \"biomarkers\": {\n",
    "        \"synapse_id\": \"syn61250724.1\",\n",
    "        \"fields\": {\n",
    "            \"model\": [],\n",
    "            \"type\": [],\n",
    "            \"tissue\": [],\n",
    "            \"sex\": []\n",
    "        }\n",
    "    },\n",
    "    \"pathology\": {\n",
    "        \"synapse_id\": \"syn61357279\",\n",
    "        \"fields\": {\n",
    "            \"model\": [],\n",
    "            \"type\": [],\n",
    "            \"tissue\": [],\n",
    "            \"sex\": []\n",
    "        }\n",
    "    }\n",
    "}"
   ]
  },
  {
   "cell_type": "code",
   "execution_count": null,
   "metadata": {},
   "outputs": [],
   "source": [
    "# Log into Synapse\n",
    "syn = utils._login_to_synapse()"
   ]
  },
  {
   "cell_type": "code",
   "execution_count": null,
   "metadata": {},
   "outputs": [],
   "source": [
    "# Download data as dataframes\n",
    "for dataset in datasets:\n",
    "    df = extract.get_entity_as_df(syn_id=datasets[dataset][\"synapse_id\"], source=\"csv\", syn=syn)\n",
    "    df = utils.standardize_column_names(df=df)\n",
    "    df = utils.standardize_values(df=df)\n",
    "    datasets[dataset][\"df\"] = df"
   ]
  },
  {
   "cell_type": "code",
   "execution_count": null,
   "metadata": {},
   "outputs": [],
   "source": [
    "# Get unique values for each field\n",
    "for dataset in datasets:\n",
    "    for field in datasets[dataset][\"fields\"]:\n",
    "        datasets[dataset][\"fields\"][field] = datasets[dataset][\"df\"][field].unique().tolist()\n"
   ]
  },
  {
   "cell_type": "code",
   "execution_count": null,
   "metadata": {},
   "outputs": [],
   "source": [
    "# Write to json\n",
    "for dataset in datasets:\n",
    "    with open(f\"{dataset}_unique_field_values.json\", \"w\") as f:\n",
    "        json.dump(datasets[dataset][\"fields\"], f, indent=4)"
   ]
  }
 ],
 "metadata": {
  "kernelspec": {
   "display_name": "synapseclient",
   "language": "python",
   "name": "python3"
  },
  "language_info": {
   "codemirror_mode": {
    "name": "ipython",
    "version": 3
   },
   "file_extension": ".py",
   "mimetype": "text/x-python",
   "name": "python",
   "nbconvert_exporter": "python",
   "pygments_lexer": "ipython3",
   "version": "3.9.13"
  }
 },
 "nbformat": 4,
 "nbformat_minor": 2
}
